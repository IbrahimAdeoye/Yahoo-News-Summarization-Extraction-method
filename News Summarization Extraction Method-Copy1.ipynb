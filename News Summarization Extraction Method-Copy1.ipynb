{
 "cells": [
  {
   "cell_type": "code",
   "execution_count": 51,
   "id": "9611519f",
   "metadata": {},
   "outputs": [],
   "source": [
    "from bs4 import BeautifulSoup as bs\n",
    "import requests\n",
    "import json\n",
    "import re\n",
    "\n"
   ]
  },
  {
   "cell_type": "code",
   "execution_count": 52,
   "id": "1b04e33f",
   "metadata": {},
   "outputs": [],
   "source": [
    "r = requests.get('https://www.yahoo.com')\n",
    "r.raise_for_status()"
   ]
  },
  {
   "cell_type": "markdown",
   "id": "578ce481",
   "metadata": {},
   "source": [
    "Returns the content of url "
   ]
  },
  {
   "cell_type": "code",
   "execution_count": 53,
   "id": "0b0cff2c",
   "metadata": {},
   "outputs": [],
   "source": [
    "html = bs(r.content)"
   ]
  },
  {
   "cell_type": "code",
   "execution_count": 54,
   "id": "08d729c0",
   "metadata": {},
   "outputs": [],
   "source": [
    "# print(html.prettify())"
   ]
  },
  {
   "cell_type": "markdown",
   "id": "9d31c0a4",
   "metadata": {},
   "source": [
    "This is where the the each article are stored in the html code"
   ]
  },
  {
   "cell_type": "code",
   "execution_count": 55,
   "id": "36b94c27",
   "metadata": {},
   "outputs": [],
   "source": [
    "body = html.find_all(class_=\"List(n) P(0) grid-layout stream-grid stream-items\")\n",
    "content = body[0].find_all(class_=\"Pos(r) D(f)\")\n"
   ]
  },
  {
   "cell_type": "markdown",
   "id": "838cd6dd",
   "metadata": {},
   "source": [
    "Code below get the gets and stores the title of each articles and the link to the article and appends it to a list"
   ]
  },
  {
   "cell_type": "code",
   "execution_count": 56,
   "id": "16e8e1db",
   "metadata": {},
   "outputs": [],
   "source": [
    "info = []\n",
    "for i in content:\n",
    "    try:\n",
    "        i.get_text('}').split('}')[4]\n",
    "    except:\n",
    "        continue\n",
    "    else:\n",
    "        info.append({i.get_text('}').split('}')[4]:i.find('a').get('href')})\n",
    "     \n",
    "\n",
    "    \n",
    "\n",
    "# with open('News_articles2.json','w') as f:\n",
    "#     json.dump(info,f)"
   ]
  },
  {
   "cell_type": "markdown",
   "id": "5f35932b",
   "metadata": {},
   "source": [
    "Check if the new news article is not in the json file, then append it to the json file then save it\n",
    "\n",
    "num_of_new_articles is going to be useful later on when you automate the code to only send the newly added articles\n"
   ]
  },
  {
   "cell_type": "code",
   "execution_count": 57,
   "id": "856233b9",
   "metadata": {
    "scrolled": true
   },
   "outputs": [
    {
     "name": "stdout",
     "output_type": "stream",
     "text": [
      "{'Dow inches up as inflation trends stay positive: Stock market news today': 'https://finance.yahoo.com/news/dow-inches-up-as-inflation-trends-stay-positive-stock-market-news-today-173535572.html'}\n",
      "{\"San Francisco Fed’s Daly: 'There’s still more work to do' on inflation\": 'https://finance.yahoo.com/news/san-francisco-feds-daly-theres-still-more-work-to-do-on-inflation-172924823.html'}\n",
      "{\"Social Security's cost-of-living increase could be only 3%: Will that be enough?\": 'https://finance.yahoo.com/news/social-securitys-cost-of-living-increase-could-be-only-3-will-that-be-enough-183700266.html'}\n",
      "{\"Lil Tay not actually dead: Child rapper and her brother are 'safe and alive' after apparent death hoax\": 'https://www.yahoo.com/entertainment/lil-tay-not-dead-child-rapper-apparent-death-hoax-185916914.html'}\n",
      "{\"July inflation data shows 'convincing' signs price pressures easing, taking heat off Fed\": 'https://finance.yahoo.com/news/july-inflation-data-shows-convincing-signs-price-pressures-easing-taking-heat-off-fed-155410903.html'}\n",
      "{' ': 'https://www.engadget.com/best-smart-speakers-151515264.html'}\n",
      "{\"Women's World Cup 2023: How to watch tonight's Spain vs. Netherlands game\": 'https://sports.yahoo.com/watch-spain-netharlands-game-tonight-womens-world-cup-2023-streaming-200849876.html'}\n",
      "{'2023 NFL preseason: How to watch the Bengals vs. Packers game': 'https://sports.yahoo.com/watch-bengals-vs-packers-game-2023-nfl-preseason-182800144.html'}\n",
      "{'The best hair growth products of 2023': 'https://www.yahoo.com/lifestyle/best-hair-growth-products-185823628.html'}\n",
      "{' ': 'https://techcrunch.com/2023/08/10/chatgpt-expands-its-custom-instructions-feature-to-free-users/'}\n",
      "{'Inflation: Grocery prices are back up (slightly), beef prices jump': 'https://finance.yahoo.com/news/inflation-grocery-prices-are-back-up-slightly-beef-prices-jump-160943331.html'}\n",
      "{'July inflation report: New and used car prices keep falling': 'https://finance.yahoo.com/news/july-inflation-report-new-and-used-car-prices-keep-falling-153539752.html'}\n",
      "{'How to help Hawaii’s wildfire victims: Food banks, shelters, and cash donations': 'https://news.yahoo.com/how-to-help-hawaii-wildfire-victims-food-banks-shelters-cash-donations-160329905.html'}\n",
      "{\"Karlie Kloss spotted at Taylor Swift's final L.A. concert after rumored friendship drama\": 'https://www.yahoo.com/entertainment/karlie-kloss-taylor-swift-final-la-concert-rumored-friendship-drama-154326782.html'}\n",
      "{'Trio scammed Target stores using ‘sleight of hand’ trick to buy gift cards, feds say': 'https://news.yahoo.com/trio-scammed-target-stores-using-150258388.html'}\n",
      "{'2023 Fantasy Football Draft Day Blueprint: The guide you need to succeed': 'https://sports.yahoo.com/2023-fantasy-football-draft-day-blueprint-the-guide-you-need-to-succeed-154310596.html'}\n",
      "{'NFL betting: Which rookie quarterback is worth backing this season?': 'https://sports.yahoo.com/nfl-betting-which-rookie-quarterback-is-worth-backing-this-season-155200954.html'}\n",
      "{'Fantasy Football Mock Draft: 12-team full-PPR': 'https://sports.yahoo.com/fantasy-football-mock-draft-12-team-full-ppr-152832550.html'}\n",
      "{'Hawaii wildfires live updates: At least 36 dead as Lahaina burns to the ground': 'https://news.yahoo.com/hawaii-wildfires-live-updates-lahaina-maui-death-toll-evacuations-134109045.html'}\n",
      "{'Frozen cereal hack goes viral on TikTok, and cereal lovers’ minds are blown: ‘You’ve just changed my life’': 'https://www.yahoo.com/lifestyle/frozen-cereal-hack-goes-viral-182237164.html'}\n",
      "{'Fantasy Football: Seven key players unlikely to meet their Yahoo projections': 'https://sports.yahoo.com/fantasy-football-seven-players-seven-suspect-projections-set-to-sadden-us-173904093.html'}\n",
      "{\"Cindy Crawford shares 'lake life' snaps and fans say it 'looks like Muskoka'\": 'https://www.yahoo.com/lifestyle/cindy-crawford-lake-photos-muskoka-190914915.html'}\n",
      "{'Fantasy Football Sleepers: Five WRs who could surprise in 2023': 'https://sports.yahoo.com/fantasy-football-sleepers-five-wrs-who-could-surprise-in-2023-163859369.html'}\n",
      "{'Ford shows Fox Body Mustang owners some love with new parts': 'https://autos.yahoo.com/ford-shows-fox-body-mustang-190500441.html'}\n",
      "{'Fantasy Football: Six intriguing RB sleepers to draft ': 'https://sports.yahoo.com/fantasy-football-sleepers-six-rbs-to-consider-drafting-late-153702331.html'}\n",
      "{'7 vacation dresses under $50 at Nordstrom Rack for all your end-of-summer travel plans': 'https://www.yahoo.com/lifestyle/vacation-dresses-under-50-at-nordstrom-rack-154855430.html'}\n",
      "{\"Couple faces backlash after allegedly staging TikTok rescue of domestic violence victim: 'We don’t care that people get mad about it'\": 'https://www.yahoo.com/lifestyle/couple-faces-backlash-after-allegedly-staging-tiktok-rescue-of-domestic-violence-victim-we-dont-care-that-people-get-mad-about-it-192352335.html'}\n",
      "{'Fantasy Football Mock Draft: 10-team dynasty startup': 'https://sports.yahoo.com/fantasy-football-mock-draft-10-team-dynasty-startup-173920908.html'}\n",
      "{'Aileen Cannon and Tanya Chutkan: What to know about the judges in Trump’s federal trials': 'https://news.yahoo.com/aileen-cannon-and-tanya-chutkan-what-to-know-about-the-judges-in-trumps-federal-trials-191402778.html'}\n",
      "{'NHL outliers: Players who like to fight, hit or keep their noses clean': 'https://sports.yahoo.com/nhl-outliers-players-who-like-to-fight-hit-or-keep-their-noses-clean-174345598.html'}\n",
      "{'Lizzo lawsuit: Why experts say the allegations are already damaging her brand': 'https://www.yahoo.com/entertainment/lizzo-sexual-harassment-lawsuit-brand-crisis-experts-170036292.html'}\n",
      "{\"After multiple scandals, beauty influencer Jaclyn Hill announces she's shutting down some brands: 'I definitely feel ashamed and like I blew it'\": 'https://www.yahoo.com/lifestyle/after-multiple-scandals-beauty-influencer-jaclyn-hill-announces-shes-shutting-down-some-brands-i-definitely-feel-ashamed-and-like-i-blew-it-213017104.html'}\n",
      "{'Why it won’t just be up to the James family whether Bronny plays for USC — or any other school': 'https://sports.yahoo.com/why-it-wont-just-be-up-to-the-james-family-whether-bronny-plays-for-usc--or-any-other-school-150722851.html'}\n",
      "{'Longhorns score big with commitment from Colin Simmons': '/sports/m/edf80c15-e8df-399d-ab39-b13c3c589b2b/longhorns-score-big-with.html'}\n",
      "{'Helen Mirren’s go-to beauty secret for ageless skin, hair and nails is on sale for $15': 'https://www.yahoo.com/lifestyle/helen-mirren-castor-oil-130034012.html'}\n",
      "{'Student cleared in stolen AirPods case after 3-year ticket battle': 'https://news.yahoo.com/student-cleared-in-stolen-airpods-case-after-3-year-ticket-battle-192335863.html'}\n",
      "{\"America's highest earners are getting hit hardest by a slowing labor market\": 'https://finance.yahoo.com/news/americas-highest-earners-are-getting-hit-hardest-by-a-slowing-labor-market-190627662.html'}\n",
      "{\"Three-star CB Jeremiah Lowe commits to Michigan's class of 2024\": '/sports/m/3fda8e10-c444-3f54-9e7c-a24b145ca1ca/three-star-cb-jeremiah-lowe.html'}\n",
      "{'Sherrone Moore says \"no type\" at WR3, Michigan wants \"all explosive\"': '/sports/m/484e8295-edc7-3346-af11-b42eb732d040/sherrone-moore-says-no-type-.html'}\n",
      "{'Paige Spiranac Hits the Golf Course in Plunging Athleisure Micro Mini': 'https://www.yahoo.com/lifestyle/paige-spiranac-hits-golf-course-171828820.html'}\n",
      "{'Top mountaineer defends walking past dying Sherpa in pursuit of K2 record': 'https://news.yahoo.com/kristin-harila-accused-walking-over-162436888.html'}\n",
      "{\"21 Heartbreaking Images Of Hawai'i's Deadly Wildfires And Its Devastating Effects\": 'https://www.yahoo.com/lifestyle/21-heartbreaking-images-hawaiis-deadly-181620956.html'}\n",
      "{'Lil Tay Emerges to Say She’s NOT Dead: ‘My Brother and I Are Safe’': 'https://www.yahoo.com/entertainment/lil-tay-emerges-she-not-174410870.html'}\n",
      "{'Clint Eastwood’s Reaction to His Former Mistress’ Death Shows How Strong Their Connection Was': 'https://www.yahoo.com/entertainment/clint-eastwood-reaction-former-mistress-160040129.html'}\n",
      "{'Report: Southwest Airlines making huge boarding process change': '/finance/m/2f007cd4-c0bf-3746-8b7c-cb7f839c56b0/report-southwest-airlines.html'}\n",
      "{'Mom Called for Jury Duty Has No Babysitter — So She Shows Up with 1-Year-Old Triplets in Tow (Exclusive)': 'https://www.yahoo.com/entertainment/mom-called-jury-duty-no-144010166.html'}\n"
     ]
    }
   ],
   "source": [
    "\n",
    "\n",
    "with open('News_articles2.json') as f:\n",
    "    js_file = json.load(f)\n",
    "\n",
    "num_of_new_articles = 0\n",
    "for i in info:\n",
    "    if i not in js_file:\n",
    "        num_of_new_articles = num_of_new_articles + 1\n",
    "        print(i)\n",
    "        js_file.append(i)\n",
    "           \n",
    "with open('News_articles2.json','w') as f:\n",
    "    json.dump(js_file,f)\n",
    "        \n"
   ]
  },
  {
   "cell_type": "code",
   "execution_count": 58,
   "id": "1dfacaf7",
   "metadata": {},
   "outputs": [],
   "source": [
    "# load the update json file \n",
    "with open('News_articles2.json') as f:\n",
    "    js_daily = json.load(f)\n",
    "    \n",
    "working_set = js_daily\n"
   ]
  },
  {
   "cell_type": "code",
   "execution_count": 59,
   "id": "b1df724d",
   "metadata": {},
   "outputs": [
    {
     "data": {
      "text/plain": [
       "1003"
      ]
     },
     "execution_count": 59,
     "metadata": {},
     "output_type": "execute_result"
    }
   ],
   "source": [
    "len(working_set)"
   ]
  },
  {
   "cell_type": "markdown",
   "id": "b1f47824",
   "metadata": {},
   "source": [
    "Remove the ads articles\n",
    "\n",
    "I noticed the ads articles don't have yahoo in the url or the keys are just whitespace\n",
    "\n",
    "I want to loop through each dictionary and use regex to find the dictionary that does have '.yahoo' and delete them from the list because does are ads or atleat i know they are not news article\n",
    "\n",
    "Remove instances with whitespace as keys in the dictionary\n",
    "\n",
    "Use regex to check for .yahoo in the dictionaty value\n",
    "\n",
    "we reversed the the working_set, so it goes from most recent article to least recent"
   ]
  },
  {
   "cell_type": "code",
   "execution_count": 60,
   "id": "fc9b819c",
   "metadata": {},
   "outputs": [],
   "source": [
    "# remove the ads articles\n",
    "# i noticed the ads articles don't have yahoo in the url or the keys are just whitespace\n",
    "\n",
    "# i want to loop through each dictionary and use regex to find the dictionary that\n",
    "# does have '.yahoo' and delete them from the list because does are ads or atleat i know they are not news article\n",
    "\n",
    "# remove instances with whitespace as keys in the dictionary\n",
    "# use regex to check for .yahoo in the dictionaty value\n",
    "\n",
    "working_set_reversed = working_set[::-1]\n",
    "for j,i in enumerate(working_set_reversed[:num_of_new_articles]):\n",
    "    if  ' ' in i or not re.search('\\.yahoo\\.com',working_set_reversed[j][list(i.keys())[0]]):\n",
    "        num_of_new_articles = num_of_new_articles - 1\n",
    "        \n",
    "remove_item = []\n",
    "for j,i in enumerate(working_set_reversed):\n",
    "    if  ' ' in i or not re.search('\\.yahoo\\.com',working_set_reversed[j][list(i.keys())[0]]):\n",
    "        remove_item.append(working_set_reversed[j])\n",
    "\n",
    "for i in remove_item:\n",
    "    working_set_reversed.remove(i)    \n",
    "    \n",
    "\n"
   ]
  },
  {
   "cell_type": "code",
   "execution_count": 61,
   "id": "d345c12e",
   "metadata": {},
   "outputs": [],
   "source": [
    "# for j,i in enumerate(working_set_reversed[:num_of_new_articles]):\n",
    "#     print(i.keys())\n",
    "#           [list(i.keys())[0]])"
   ]
  },
  {
   "cell_type": "code",
   "execution_count": 62,
   "id": "cf2efb5a",
   "metadata": {},
   "outputs": [
    {
     "name": "stdout",
     "output_type": "stream",
     "text": [
      "https://www.yahoo.com/entertainment/mom-called-jury-duty-no-144010166.html\n",
      "https://www.yahoo.com/entertainment/clint-eastwood-reaction-former-mistress-160040129.html\n",
      "https://www.yahoo.com/entertainment/lil-tay-emerges-she-not-174410870.html\n",
      "https://www.yahoo.com/lifestyle/21-heartbreaking-images-hawaiis-deadly-181620956.html\n",
      "https://news.yahoo.com/kristin-harila-accused-walking-over-162436888.html\n",
      "https://www.yahoo.com/lifestyle/paige-spiranac-hits-golf-course-171828820.html\n",
      "https://finance.yahoo.com/news/americas-highest-earners-are-getting-hit-hardest-by-a-slowing-labor-market-190627662.html\n",
      "https://news.yahoo.com/student-cleared-in-stolen-airpods-case-after-3-year-ticket-battle-192335863.html\n",
      "https://www.yahoo.com/lifestyle/helen-mirren-castor-oil-130034012.html\n",
      "https://sports.yahoo.com/why-it-wont-just-be-up-to-the-james-family-whether-bronny-plays-for-usc--or-any-other-school-150722851.html\n",
      "https://www.yahoo.com/lifestyle/after-multiple-scandals-beauty-influencer-jaclyn-hill-announces-shes-shutting-down-some-brands-i-definitely-feel-ashamed-and-like-i-blew-it-213017104.html\n",
      "https://www.yahoo.com/entertainment/lizzo-sexual-harassment-lawsuit-brand-crisis-experts-170036292.html\n",
      "https://sports.yahoo.com/nhl-outliers-players-who-like-to-fight-hit-or-keep-their-noses-clean-174345598.html\n",
      "https://news.yahoo.com/aileen-cannon-and-tanya-chutkan-what-to-know-about-the-judges-in-trumps-federal-trials-191402778.html\n",
      "https://sports.yahoo.com/fantasy-football-mock-draft-10-team-dynasty-startup-173920908.html\n",
      "https://www.yahoo.com/lifestyle/couple-faces-backlash-after-allegedly-staging-tiktok-rescue-of-domestic-violence-victim-we-dont-care-that-people-get-mad-about-it-192352335.html\n",
      "https://www.yahoo.com/lifestyle/vacation-dresses-under-50-at-nordstrom-rack-154855430.html\n",
      "https://sports.yahoo.com/fantasy-football-sleepers-six-rbs-to-consider-drafting-late-153702331.html\n",
      "https://autos.yahoo.com/ford-shows-fox-body-mustang-190500441.html\n",
      "https://sports.yahoo.com/fantasy-football-sleepers-five-wrs-who-could-surprise-in-2023-163859369.html\n",
      "https://www.yahoo.com/lifestyle/cindy-crawford-lake-photos-muskoka-190914915.html\n",
      "https://sports.yahoo.com/fantasy-football-seven-players-seven-suspect-projections-set-to-sadden-us-173904093.html\n",
      "https://www.yahoo.com/lifestyle/frozen-cereal-hack-goes-viral-182237164.html\n",
      "https://news.yahoo.com/hawaii-wildfires-live-updates-lahaina-maui-death-toll-evacuations-134109045.html\n",
      "https://sports.yahoo.com/fantasy-football-mock-draft-12-team-full-ppr-152832550.html\n",
      "https://sports.yahoo.com/nfl-betting-which-rookie-quarterback-is-worth-backing-this-season-155200954.html\n",
      "https://sports.yahoo.com/2023-fantasy-football-draft-day-blueprint-the-guide-you-need-to-succeed-154310596.html\n",
      "https://news.yahoo.com/trio-scammed-target-stores-using-150258388.html\n",
      "https://www.yahoo.com/entertainment/karlie-kloss-taylor-swift-final-la-concert-rumored-friendship-drama-154326782.html\n",
      "https://news.yahoo.com/how-to-help-hawaii-wildfire-victims-food-banks-shelters-cash-donations-160329905.html\n",
      "https://finance.yahoo.com/news/july-inflation-report-new-and-used-car-prices-keep-falling-153539752.html\n",
      "https://finance.yahoo.com/news/inflation-grocery-prices-are-back-up-slightly-beef-prices-jump-160943331.html\n",
      "https://www.yahoo.com/lifestyle/best-hair-growth-products-185823628.html\n",
      "https://sports.yahoo.com/watch-bengals-vs-packers-game-2023-nfl-preseason-182800144.html\n",
      "https://sports.yahoo.com/watch-spain-netharlands-game-tonight-womens-world-cup-2023-streaming-200849876.html\n",
      "https://finance.yahoo.com/news/july-inflation-data-shows-convincing-signs-price-pressures-easing-taking-heat-off-fed-155410903.html\n",
      "https://www.yahoo.com/entertainment/lil-tay-not-dead-child-rapper-apparent-death-hoax-185916914.html\n",
      "https://finance.yahoo.com/news/social-securitys-cost-of-living-increase-could-be-only-3-will-that-be-enough-183700266.html\n",
      "https://finance.yahoo.com/news/san-francisco-feds-daly-theres-still-more-work-to-do-on-inflation-172924823.html\n",
      "https://finance.yahoo.com/news/dow-inches-up-as-inflation-trends-stay-positive-stock-market-news-today-173535572.html\n",
      "\n",
      "\n",
      "we have 1003 articles in total and we have 40 newly found articles\n"
     ]
    }
   ],
   "source": [
    "for j,i in enumerate(working_set_reversed[:num_of_new_articles]):\n",
    "\n",
    "    print(working_set_reversed[j][list(i.keys())[0]])\n",
    "print('\\n')    \n",
    "print(\"we have \"+str(len(working_set))+\" articles in total and we have \"+str(num_of_new_articles)+\" newly found articles\")"
   ]
  },
  {
   "cell_type": "markdown",
   "id": "a74cab34",
   "metadata": {},
   "source": [
    "We go to every dictionary values, and use request to get the content of each articles then we use bs4 to get the p tag, which is the text of the article\n",
    "\n",
    "since we only want the content of the article but the p tag returns some other information after the end of the article, say some recommendation to view other article and we dont want that, one thing i noticed is that most article end with some words which i store in the end_words list, so i loop through each article and once i see any any word in the end_words list and delete from that word to the end. I wouldn't say its 100 percent accurate but it's like 90 percent accurate cause they are just so many possible ways for an article to end"
   ]
  },
  {
   "cell_type": "code",
   "execution_count": 63,
   "id": "94cdde7c",
   "metadata": {
    "scrolled": true
   },
   "outputs": [
    {
     "name": "stdout",
     "output_type": "stream",
     "text": [
      "0 TRENDING\n",
      "1 TRENDING\n",
      "2 TRENDING\n",
      "3 TRENDING\n",
      "4 Recommended Stories\n",
      "5 TRENDING\n",
      "6 TRENDING\n",
      "7 Recommended Stories\n",
      "8 TRENDING\n",
      "9 Recommended Stories\n",
      "10 TRENDING\n",
      "11 TRENDING\n",
      "12 Recommended Stories\n",
      "13 Recommended Stories\n",
      "14 Recommended Stories\n",
      "15 TRENDING\n",
      "16 TRENDING\n",
      "17 Recommended Stories\n",
      "18 TRENDING\n",
      "19 Recommended Stories\n",
      "20 TRENDING\n",
      "21 Recommended Stories\n",
      "22 TRENDING\n",
      "23 Recommended Stories\n",
      "24 Recommended Stories\n",
      "25 Recommended Stories\n",
      "27 Recommended Stories\n",
      "28 TRENDING\n",
      "29 Recommended Stories\n",
      "30 TRENDING\n",
      "31 TRENDING\n",
      "32 TRENDING\n",
      "33 Recommended Stories\n",
      "34 Recommended Stories\n",
      "35 TRENDING\n",
      "36 TRENDING\n",
      "37 TRENDING\n",
      "38 TRENDING\n",
      "39 TRENDING\n"
     ]
    }
   ],
   "source": [
    "# we go every dictionary values, load it use request and get the <p> tag\n",
    "end_words= ['Follow us on Twitter and Instagram',\n",
    "\"follow us on Facebook, Twitter, and Instagram\",'More Latest News!','TRENDING',\n",
    "'Recommended Stories',\n",
    "'TRENDING','POPULAR', 'Read More','Latest Stories']\n",
    "\n",
    "# end_words = [end_word.lower() for end_word in end_words]\n",
    "\n",
    "for index,working in enumerate(working_set_reversed[:num_of_new_articles]):\n",
    "    res = requests.get(list(working.values())[0])\n",
    "    soup = bs(res.content)\n",
    "    text = [i.get_text() for i in soup.find_all(['h2','p'])]\n",
    "\n",
    "    for word in text:\n",
    "        if word in end_words:\n",
    "            print(index,word)\n",
    "            working_set_reversed[index][list(working_set_reversed[index].keys())[0]]  = text[0:text.index(word)]\n",
    "            break\n",
    "        else:\n",
    "            working_set_reversed[index][list(working_set_reversed[index].keys())[0]]  = text[0:]\n",
    "                "
   ]
  },
  {
   "cell_type": "code",
   "execution_count": 64,
   "id": "581ade4e",
   "metadata": {},
   "outputs": [],
   "source": [
    "# working_set_copy = working_set[:]"
   ]
  },
  {
   "cell_type": "code",
   "execution_count": 65,
   "id": "c94fe275",
   "metadata": {},
   "outputs": [],
   "source": [
    "# working_set_copy[:15]"
   ]
  },
  {
   "cell_type": "code",
   "execution_count": 66,
   "id": "f1e55cce",
   "metadata": {},
   "outputs": [],
   "source": [
    "# working_set_copy"
   ]
  },
  {
   "cell_type": "markdown",
   "id": "5569d296",
   "metadata": {},
   "source": [
    "# Cleaning the articles"
   ]
  },
  {
   "cell_type": "markdown",
   "id": "85e6e134",
   "metadata": {},
   "source": [
    "These are some things that need to be cleaned from the articles"
   ]
  },
  {
   "cell_type": "code",
   "execution_count": 67,
   "id": "c94dd507",
   "metadata": {},
   "outputs": [],
   "source": [
    "# pic.twitter.com/8wwe2lximt\n",
    "# — theblaze (@theblaze) july 27, 2023\n",
    "# — rep. nancy mace (@repnancymace) july 27, 2023\n",
    "# more from \n",
    "# \\xa0\n",
    "# \\'\n",
    "# [...]\n",
    "\n",
    "# —\n",
    "# . that heel flick backwards from @_aryborges 🔥pic.twitter.com/agetnxr7ln — national women’s soccer league (@nwsl) \n",
    "# july 24, 2023 she earned her hat \n",
    "# trick 20 minutes of play later on another header that went between the legs of panama keeper yenith bailey. she's\n",
    "# becoming inevitable 🇧🇷hat trick ary borges 🎩 pic.twitter.com/fygalerheo — fox soccer (@foxsoccer) july 24, 2023 \n",
    "# marta came on for borges in the 75th minute. \n",
    "\n",
    "# . germany held nothing back in this one 😤🇩🇪watch all six goals from germany's 2023 fifa women's world cup opener ⬇️ pic.twitter.com/bbx7nlq8vb — fox soccer (@foxsoccer) july 24, 2023 the six goals are the most of the tournament so far. \n",
    "# https://t.co/hr1vvd7bmw — tom pelissero (@tompelissero) july 24, 2023 this is a brutal turn of events for the 26-year-old hines.\n",
    "\n",
    "# . he lost $1.67m salary due to buyout.rep'd by pat brisson @caahockey https://t.co/8w0mfcfrau — puckpedia (@puckpedia) july 24, 2023\n",
    "\n",
    "# \\xa0\n",
    "# remove \\n and [it]\n",
    "# ”\n"
   ]
  },
  {
   "cell_type": "code",
   "execution_count": 68,
   "id": "a4939ba3",
   "metadata": {},
   "outputs": [],
   "source": [
    "for j,i in enumerate(working_set_reversed[:num_of_new_articles+1]):\n",
    "    working_set_reversed[j][list(working_set_reversed[j].keys())[0]] = \" \".join(working_set_reversed[j][list(working_set_reversed[j].keys())[0]])"
   ]
  },
  {
   "cell_type": "code",
   "execution_count": 69,
   "id": "1815ff11",
   "metadata": {},
   "outputs": [
    {
     "name": "stdout",
     "output_type": "stream",
     "text": [
      "[{'Mom Called for Jury Duty Has No Babysitter — So She Shows Up with 1-Year-Old Triplets in Tow (Exclusive)': \"Torrey Scow didn't want to face the $1000 fine for skipping jury duty, so she packed up her four kids for what ended up being an adventure Torrey Scow Instagram Torrey Scow is used to getting looks as she goes about her daily life with four kids — triplets Lexi, Zoey and Lincoln, 18 months, and daughter Emory, 5 — but when she shared her experience at jury duty, others really took notice. In June, the mom of four was called to jury duty and thought a lack of child care would allow her to reschedule. I even sent them a picture because I wanted them to know how hard it is for me to find a babysitter, because the only person I have that can handle all four kids is either myself or my husband, or my mom, Torrey tells PEOPLE of the incident. It'd be easier if they were older toddlers, but they're still babies who need bottles and changing at different times. But they ended up sending me a random day around three days out from the day I got it. Never miss a story — sign up for PEOPLE's free daily newsletter to stay up-to-date on the best of what PEOPLE has to offer, from juicy celebrity news to compelling human interest stories. Related: Mom Goes Viral After Sharing Son&#39;s Honest Birthday Invitation — and Says Come with No Expectations With husband Kory at work and her only babysitter out of town, Torrey submitted to having to do it on her own. I told my husband, 'Don't worry about it. I bet if I just take them, they'll probably see me and send me right home. It'll be fine.' The day of jury duty, Torrey recalls she didn't even put shoes on them because I just thought, 'We're not going to be there long.'  To her surprise, Torrey was kept there. I walked into this room and it's just dead silent. There are all these adults there by themselves and one other mom with twins, but they were older] and well-behaved. Torrey relied on her arsenal of snacks to try to keep the toddlers busy. I think they ate more snacks than they ever had in their lives at that point because it was the only thing that was keeping them quiet, she says. After a while, the snacks stopped working as the antsy little ones wanted to roam. They start screaming, but they're in this stage where they scream at the top of their lungs. It's not possible to get one baby quiet, let alone three. And my older daughter is so good, just sitting there and trying to help as they throw their bottles on the floor and everyone's looking at us. When Emory needed a bathroom break, Torrey took the kids to stroll around in the hall until they were taken in to see the judge. Thinking again that she'd soon be dismissed, Torrey was held longer. I thought for sure the judge would see me and excuse me, but he started going through so many questions. And I couldn't even hear them because my babies are so loud and other people in the room are asking him to repeat questions. As the judge spoke, Torrey was running relay after the triplets as they wandered around the room until one of the officers took her to a closed-off hall space just outside, where they could roam as she tried to listen.He was so nice and found them this box of toys, stuffed animals and whatnot, and brought them in for them to play with. And finally, once they were getting entertained and settled, the judge said he was going to release who he didn't need and let me and one other person go home. While she was relieved, the mom of four was baffled that she was kept there for two and a half hours. Usually it's me and my husband when we go out with all the kids, but this time it was just me and I was physically and emotionally exhausted when it was all done. It was me by myself and it's dead silent and all eyes are on me. I was so close to crying by the end and then they finally let us go. Admitting she's been met with her fair share of very nice people and those who stare, Torrey says that as a mom of multiples, she's used to being stopped. The most common comment she hears? I don't know how you do it. And it's really the third [baby that makes it feel hard, because you only have two arms and anytime I'm taking them anywhere, I have to carry two and go back for one. We have to have everything super baby-proofed. Courtesy of Torrey Scow Still, she wouldn't have it any other way. After being told she couldn't carry due to the effects of an autoimmune disease medication, Torrey and Kory welcomed Emory via surrogate — her sister-in-law. A change in medications allowed her to carry the triplets on her own, though she was told it was unlikely she'd end up with multiples at all. So we did have one set of embryos that were two embryos that were frozen together. And if you have two that are frozen together, they suggest you keep them that way, she explains. If you're trying to separate them and it doesn't work, then you just have to discard both, so you do have a slightly higher chance if you put in two of getting one to stick. And that was our plan, to hopefully get one out of it. Torrey Scow Instagram Choosing to go without IVF drugs this time around, when she got her bloodwork done, the results made the couple feel confident they'd have twins. We go in for the ultrasound, the very first ultrasound, and the tech goes to the embryos and we instantly see they both stuck, she recalls, saying her husband was definitely stressed by the news. I joked, 'At least it's not triplets' and we all laugh, including the doctor, and as she's measuring both embryos she moves to the side and stops. And she looks up at me and says, 'Oh no.'  Thinking she'd lost one of the babies, instead the tech showed her that one of the embryos had split. You are having triplets, the couple heard. I wish I had a camera because it was so dramatic. I luckily was laying down or else I probably would have passed out, but I tried to keep my cool in the room and I was just asking questions while I hear Kory taking deep breaths and the nurse telling him it's going to be okay. Once they left, Torrey cried as she confronted the fears of what was to come. I wanted a kid so bad, but when you find out it's three and there's only two of us, it's like, 'How are we supposed to do it?' Plus, it was my first pregnancy ever and I have this medical condition and now this pregnancy is high risk. I bawled my eyes out. The two braved 32 weeks of pregnancy with the triplets, which included pre-eclampsia that led to her induction. And while the ordeal was scary, the mom of four says, It is all so worth it. You're going to have rough moments, but if you even have one child or no children, you have rough moments. But the good times, you get time three, and it is the absolute best. Try to put away all those worries and be positive. I think that's the biggest thing is just stay positive. It all works out, she shares as a word of advice to other multiple moms and dads. It can be so stressful but it's so worth it for three times the laughs, three times the smiles, three times the cuddles. For more People news, make sure to sign up for our newsletter! Read the original article on People.\"}, {'Clint Eastwood’s Reaction to His Former Mistress’ Death Shows How Strong Their Connection Was': \" Losing someone, whether they’re a close family member or not, can be very painful. For Clint Eastwood, who just recently lost his former mistress and the mother of his daughter Kimber, Roxanne Tunis, the loss has reportedly hit him hard.  Roxanne’s death was very emotional and more emotional than he ever expected,” a source told Daily Mail following the announcement of Tunis’ passing. Per the statement, Tunis passed away at age 93 after a brief illness.” More from SheKnows Ariana Grande's Reported Reaction to Ethan Slater's Divorce Shows the Backlash Has Not Deterred Her  Per the source, Eastwood’s grief over Tunis has extended far beyond their relationship and made him question his whole life too. Her loss not only gutted him but also made him think more about his mortality, which he never does,” the source said of the 93-year-old actor.  Clint loves living life,” the source continued. He loves being around, but when Roxanne passed, he started feeling things he wasn’t used to. Clint is a storyteller, and that is how he lives his life. With Roxanne’s passing, it really taught Clint many things he never thought were possible.” Click here to read the full article.   Given his latest reflections, Eastwood has reportedly made some changes to his outlook on life. He is now cherishing moments a lot more since her passing,” the source added. He now knows some things in life can happen that he can’t change but he can certainly learn from them.”  Eastwood and Tunis began their not-so-hidden affair after they met on the set of the television Rawhide in 1959, RadarOnline reports. At the time, Eastwood was still married to his first wife and college sweetheart Maggie Johnson.  On the set, they were very open about the fact they were lovers,” a source told RadarOnline of Eastwood and Tunis’ relationship. After Clint would finish a scene, he’d amble over to Roxanne and stroll around the set with his arm affectionately around her.”  Per the source, Eastwood’s affair with Tunis led to a brief separation from Johnson but the two quickly reconciled. Despite patching things up, however, the Oscar winner continued his relationship with Tunis for a reported 14 years.  Roxanne was one of Clint’s true loves,” the source added of their strong bond over the years. He maintained a healthy relationship with Roxanne until the end, and is devastated by the loss and for his daughter Kimber.”  Our hearts go out to Eastwood and Tunis’ family at this time. Before you go, click here to see all the celebrity couples who have stayed together after cheating scandals.  Best of SheKnows All the Celebrities Who Got Engaged in 2023 19 Hollywood Celebs Who Worship at the Altar of Scientology 17 Best Celebrity 'Revenge Dresses' That Will Go Down In History Sign up for SheKnows' Newsletter. For the latest news, follow us on Facebook, Twitter, and Instagram.\"}, {'Lil Tay Emerges to Say She’s NOT Dead: ‘My Brother and I Are Safe’': \"Viral teen internet star Lil Tay surfaced on Thursday to tell TMZ that she is not, in fact, dead. I want to make it clear that my brother and I are safe and alive, but I’m completely heartbroken, and struggling to even find the right words to say,” she told the outlet. It’s been a very traumatizing 24 hours. All day yesterday, I was bombarded with endless heartbreaking and tearful phone calls from loved ones all while trying to sort out this mess.” The bizarre hoax began when a statement was posted on Lil Tay’s Instagram on Wednesday, purportedly from her family, announcing that both Tay and her brother had died. We have no words to express the unbearable loss and indescribable pain,” the post said. This outcome was entirely unexpected, and has left us all in shock.” ‘Really F*cking Confused’: Lil Tay’s Inner Circle Casts Further Doubt on Her Death However, the rapper and social media star claimed to TMZ on Thursday that her Instagram account was hacked. She claimed Meta helped her regain access to her account, and the original post has since vanished. My Instagram account was compromised by a 3rd party and used to spread jarring misinformation and rumors regarding me, to the point that even my name was wrong,” she said. My legal name is Tay Tian, not ‘Claire Hope’.” From the jump, the circumstances surrounding Tay’s death” were fishy. The police department in Vancouver—where Tay was believed to be living as of 2021—confirmed several times to The Daily Beast that it had no record of the deaths of Tay or her brother. Sources close to her, including her dad, ex-managers, and family friends, were also unable to confirm her death and were skittish when it came to providing details. But who would have hacked a niche, underage influencer who hasn’t been in the public eye in five years? With a cast of colorful characters surrounding Tay—including a former manager now hawking cryptocurrency in her name, and an allegedly abusive mother, father and brother—many on social media have speculated that the hack” was an inside job. The new cryptocurrency Liltay Token” is run by none other than Tay’s ex-manager Harry Tsang. He had initially told The Daily Beast on Wednesday that, after speaking to people close to the family, he cannot definitively confirm or dismiss the legitimacy” of the death announcement. Tsang has been quiet since Tay revealed she’s alive. Meanwhile, Tay’s social media manager Duane Laventure, who initially declined to comment on Tay’s apparent death under instruction from Tay’s mom, simply told The Daily Beast on Thursday afternoon, I’m not a spokesperson.” Producer and close family friend John Cunningham had commented on Wednesday’s death announcement, telling Tay’s mom to call me please I’m on my way to the house.” But when reached by The Daily Beast on Thursday morning, shortly before Tay seemingly re-emerged to say she was alive, he claimed to be just as in-the-dark as most of the internet. I don’t know man. I’m really fucking confused,” he said, adding that he only answered The Daily Beast’s call in hopes that it would have some information for me.” In a video about the situation posted to TikTok on Wednesday, Tsang referenced his personal psychic,” Eliza, who told The Daily Beast the following about Tay’s death announcement: I pick up something not very real about the statement.” Turns out Psychic Eliza was right. Read more at The Daily Beast. Get the Daily Beast's biggest scoops and scandals delivered right to your inbox. Sign up now. Stay informed and gain unlimited access to the Daily Beast's unmatched reporting. Subscribe now.\"}, {\"21 Heartbreaking Images Of Hawai'i's Deadly Wildfires And Its Devastating Effects\": \"1. On Tuesday, the National Weather Service alerted Hawai'i  residents of a red flag situation — where dry conditions mixed with strong winds from Hurricane Dora, a category 4 storm off the southern coast, and the local environment became susceptible to fire risk. While well to the south of the Hawaiian Islands, Hurricane Dora is creating strong winds across the Islands which are creating dangerous fire conditions.  Twitter: @NWS 2.Now, fast-moving fires are spreading throughout communities, including the island of Maui and its historic town of Lahaina, which was once home to King Kamehameha III, who united Hawai'i under a single kingdom, AP News reports. Today, the gravesites of kings and queens lie at Wainee Church in Lahaina. 3. Now, much of the town has been scorched by ongoing fires. When a whole city is on fire: Lahaina/Hawaii as seen from a passenger plane  #Maui #Lahaina #lahainafire #MauiFires #Hawaii #hawaiifires .  Twitter: @sdietzf1 4.On Wednesday night, it was reported that 36 people had been killed. 5.According to CBS News, officials say this number is expected to rise as search and rescue efforts are underway. 6. Videos taken by those on the ground show homes and businesses on fire. Another video- Video of the destruction on Front Street, a historic site in West Maui.Oh God, please forgive our mistakes and save us, please.#Maui #Lahaina #lahainafire #MauiFires #Hawaii #Hawaiifire #wildfires .  Twitter: @ChaudharyParvez 7. Both local residents and tourists have been trapped by the conditions, the Washington Post reported. Turn up the sound & listen to the terror of these poor folks fleeing the Maui wildfires.Don’t turn a blind eye.These are REAL people dying in the climate crisis.I want you to act as if our house is on fire. Because it is.”-Greta Thunberg.  Twitter: @NathanMackBrown 8.And power has been cut for thousands of residents as Hawai'i urges people to evacuate. 9. According to the US Coast Guard, 14 people were forced to flee into the ocean as fires pressed them out of town, and they were successfully rescued. UPDATE:The @uscg and partners continue mass Rescue Operations from Maui Fires.At this time, a total of 14 individuals have been rescued from the waters off Lahaina.Read more here: https://t.co/ANvmK3e5Iq#USCG #Maui .  Twitter: @USCGHawaiiPac 10. Helicopters have been deployed to help search affected areas and try to contain the fires. Always Ready, Always There.Two Hawaii Army National Guard CH-47 Chinook helicopters dropped more than 100,000 gallons of water on wildfires on the island of Maui yesterday. Today, more than 130 Hawaii National Guardsmen continue to support wildfire response missions. .  Twitter: @USNationalGuard 11. Aerial footage shows thick smoke clouding the region. Video made from the helicopter you can see the waves of smoke after the fire in Maui#MauiFires #lahainafire #Hawaii pic.twitter.com/zurDda5n4O — N3RO (@N3RONEWS) August 10, 2023 Twitter: @N3RONEWS 12.Towns appear to be shells of their former communities. 13.In a statement, Hawai'i Gov. Josh Green said, Much of Lahaina and Maui has been destroyed, and hundreds of local families have been displaced. 14.Satellite images from June 25, 2023 show what Lahaina looked like before the fires... 15....and after. This image was captured yesterday. 16. Many online are also mourning in the wake of destruction by sharing before and after images of the town. Before and after photographs of the fire damage in Lahaina, Maui.Absolutely devastating. .  Twitter: @KanekoaTheGreat 17. And others balk at what has been left behind. Wildfires lick through #Maui leaving behind a ghost townVC: lei_dubzz on Instagram#Wildfire #Hawaii #Dora #Lahaina #HurricaneDora #Heatwave #Fire #Climate #Kula #Weather #Firefighters #Storm #Hurricane #Viral #ForestFire pic.twitter.com/BZ9CZzKcor — Earth42morrow (@Earth42morrow) August 10, 2023 Twitter: @Earth42morrow 18. A disaster declaration has been approved by Joe Biden, which in turn provides federal funding to Hawai'i for recovery. In a statement from the White House, it says this funding can go toward grants for temporary housing and home repairs, low-cost loans to cover uninsured property losses, and other programs to help individuals and business owners recover from the effects of the disaster. Hawaii, right now: Winds are destroying power poles and transformers, causing more fires, communication outages, and wind gusts of more than 50 mph are fanning flames across Hawaii. Forest fires on the Hawaiian island of Maui have already claimed 36 lives. The fire has already… .  Twitter: @jardacarda72 19.Funding can also be used by state and eligible local governments and certain private nonprofit organizations on a cost-sharing basis for debris removal and emergency protective measures in Maui County, and assistance for emergency protective measures for Hawaii County. 20.Airports are currently packed as evacuations are underway. To help, Hawaiian Airlines says they are adding extra flights to their schedule, and urgent travel options are available from Maui to Honolulu for a price of $19. 21.If you would like to help, you can donate to the Maui Strong Fund, which is designed to help support the recovery, response, and disaster preparedness efforts.\"}, {'Top mountaineer defends walking past dying Sherpa in pursuit of K2 record': 'Coast Guard reports rescuing more than 50 people who jumped into water to escape deadly Hawaii wildfire A top mountaineer has been forced to defend herself after accusations that her team climbed over a dying Sherpa as they headed to the summit of the K2 mountain to secure a new world record. Images of climbers clambering past the injured Pakistani on a treacherous ridge on the same day that Norway’s Kristin Harila ascended have been condemned by fellow mountaineers. They claimed a Western climber would not have been left to die and said the scenes would be unthinkable in the Alps, igniting a row about how local Sherpas are used in the Himalayas. Harila, 37, climbed Pakistan’s K2 on July 27, securing her 14th highest peak in just over three months to become the world’s fastest climber to scale all peaks above 8,000 metres. During her ascent, porter Mohammed Hassan fell off a sheer edge at the top of the area known as the bottleneck, some 8,200 metres high. Ms Harila said her team did everything they could to save Mr Hassan, but conditions were too dangerous to move him. However, two climbers who were also on K2 that day claimed fellow mountaineers were more interested in setting records than saving lives, in an apparent dig at Harila. Wilhelm Steindl and Philip Flämig, an Austrian climbing duo, say drone footage they later recorded hours after Harila and her team had passed the ridge showed climbers walking over his body instead of trying to rescue him. It’s all there in the drone footage,” Mr Flämig told Austria’s Standard newspaper. He is being treated by one person while everyone else is pushing towards the summit. The fact is that there was no organised rescue operation although there were Sherpas and mountain guides on site who could have taken action.” Among those who passed him was Ms Harila. Such a thing would be unthinkable in the Alps. He was treated like a second-class human being,” Mr Steindl added. If he had been a Westerner, he would have been rescued immediately. No one felt responsible for him,” he said. What happened there is a disgrace. A living human was left lying so that records could be set,” he said. Ms Harila defended her actions on Thursday, saying that her team did everything they could to save Mr Hassan. It is simply not true to say that we did nothing to help him. We tried to lift him back up for an hour and a half and my cameraman stayed on for another hour to look after him. At no point was he left alone,” she told the Telegraph. Given the conditions, it is hard to see how he could have been saved. He fell on what is probably the most dangerous part of the mountain where the chances of carrying someone off were limited by the narrow trail and poor snow conditions,” she said. She also denied that Mr Hassan would have been treated any differently if he were a Western climber. We did all we could for him,” she said. Reports by several climbers have raised questions about the standard of equipment that Mr Hassan had been provided with before he set off up the mountain ahead of the western climbers, who often pay thousands of dollars for a guided ascent. Ms Harila said when her team found Mr Hassan he was not wearing either gloves or a down jacket and didn’t appear to have been given oxygen. If he were my Sherpa I wouldn’t have sent him up in that condition,” she said. According to Mr Steindl, who visited the porter’s family after descending the mountain, Mr Hassan took the perilous job of rope fixer in order to pay for his diabetic mother’s medical bills, even though he lacked the experience to perform the job. His family cannot afford medicine or food. Ms Harila and many of the climbers flew over us and the family in helicopters. What a symbolic image. The helicopter to fly out costs up to $12,000 per person,” he said. Thaneswar Gurugai, the general manager of Seven Summits which organised Harila’s trek, told the Telegraph that Hassan was suffering from frostbite and hyperthermia when he died. In normal cases other porters would save them unless it is quite impossible to do.” Broaden your horizons with award-winning British journalism. Try The Telegraph free for 1 month, then enjoy 1 year for just $9 with our US-exclusive offer.'}]\n"
     ]
    }
   ],
   "source": [
    "emoji_pattern = re.compile(\"[\"\n",
    "                           u\"\\U0001F600-\\U0001F64F\"  # emoticons\n",
    "                           u\"\\U0001F300-\\U0001F5FF\"  # symbols & pictographs\n",
    "                           u\"\\U0001F680-\\U0001F6FF\"  # transport & map symbols\n",
    "                           u\"\\U0001F1E0-\\U0001F1FF\"  # flags (iOS)\n",
    "                           u\"\\U00002702-\\U000027B0\"\n",
    "                           u\"\\U000024C2-\\U0001F251\"\n",
    "                           \"\\U0001F700-\\U0001F77F\"  # alchemical symbols\n",
    "                           \"\\U0001F780-\\U0001F7FF\"  # Geometric Shapes Extended\n",
    "                           \"\\U0001F800-\\U0001F8FF\"  # Supplemental Arrows-C\n",
    "                           \"\\U0001F900-\\U0001F9FF\"  # Supplemental Symbols and Pictographs\n",
    "                           \"\\U0001FA00-\\U0001FA6F\"  # Chess Symbols\n",
    "                           \"\\U0001FA70-\\U0001FAFF\"  # Symbols and Pictographs Extended-A\n",
    "                           \"\\U00002702-\\U000027B0\"  # Dingbats\n",
    "                           \"\\U000024C2-\\U0001F251\"\n",
    "                           \"\\U0001F1E0-\\U0001F1FF\"  # flags (iOS)\n",
    "                           \"\\U0001F300-\\U0001F5FF\"  # symbols & pictographs\n",
    "                           \"\\U0001F600-\\U0001F64F\"  # emoticons\n",
    "                           \"\\U0001F680-\\U0001F6FF\"  # transport & map symbols\n",
    "                           \"\\U0001F700-\\U0001F77F\"  # alchemical symbols\n",
    "                           \"\\U0001F780-\\U0001F7FF\"  # Geometric Shapes Extended\n",
    "    \"\\U0001F800-\\U0001F8FF\"  # Supplemental Arrows-C\n",
    "    \"\\U0001F900-\\U0001F9FF\"  # Supplemental Symbols and Pictographs\n",
    "    \"\\U0001FA00-\\U0001FA6F\"  # Chess Symbols\n",
    "    \"\\U0001FA70-\\U0001FAFF\"  # Symbols and Pictographs Extended-A\n",
    "    \"\\U00002702-\\U000027B0\"  # Dingbats\n",
    "    \"\\U000024C2-\\U0001F251\"\n",
    "    u\"\\U0001F600-\\U0001F64F\"  # emoticons\n",
    "                           \n",
    "                               u\"\\U0001F600-\\U0001F64F\"  # emoticons\n",
    "                               u\"\\U0001F300-\\U0001F5FF\"  # symbols & pictographs\n",
    "                               u\"\\U0001F680-\\U0001F6FF\"  # transport & map symbols\n",
    "                               u\"\\U0001F1E0-\\U0001F1FF\"  # flags (iOS)\n",
    "                               u\"\\U00002500-\\U00002BEF\"  # chinese char\n",
    "                               u\"\\U00002702-\\U000027B0\"\n",
    "                               u\"\\U00002702-\\U000027B0\"\n",
    "                               u\"\\U000024C2-\\U0001F251\"\n",
    "                               u\"\\U0001f926-\\U0001f937\"\n",
    "                               u\"\\U00010000-\\U0010ffff\"\n",
    "                               u\"\\u2640-\\u2642\"\n",
    "                               u\"\\u2600-\\u2B55\"\n",
    "                               u\"\\u200d\"\n",
    "                               u\"\\u23cf\"\n",
    "                               u\"\\u23e9\"\n",
    "                               u\"\\u231a\"\n",
    "                               u\"\\ufe0f\"  # dingbats\n",
    "                               u\"\\u3030\"\n",
    "                           \"]+\", flags=re.UNICODE)\n",
    "\n",
    "def clean_up(working_set_copy):\n",
    "    for j,i in enumerate(working_set_copy[:num_of_new_articles]):\n",
    "        working_set_copy[j][list(working_set_copy[j].keys())[0]] = re.sub('\"|“', \"\", working_set_copy[j][list(working_set_copy[j].keys())[0]])\n",
    "        working_set_copy[j][list(working_set_copy[j].keys())[0]] = re.sub('\\\\\\xa0', \" \", working_set_copy[j][list(working_set_copy[j].keys())[0]])\n",
    "\n",
    "        working_set_copy[j][list(working_set_copy[j].keys())[0]] = re.sub(\"\\\\\\'\",\"'\",working_set_copy[j][list(working_set_copy[j].keys())[0]])\n",
    "    \n",
    "        if re.search(emoji_pattern,working_set_copy[j][list(working_set_copy[j].keys())[0]]):\n",
    "            working_set_copy[j][list(working_set_copy[j].keys())[0]] = re.sub(emoji_pattern,'',working_set_copy[j][list(working_set_copy[j].keys())[0]])\n",
    "\n",
    "            reg = re.search(r'(\\.|,)([ ]){2,}(\\.|,)',working_set_copy[j][list(working_set_copy[j].keys())[0]])\n",
    "            reg2 = re.search(r'\\s{2,}(\\.|,)',working_set_copy[j][list(working_set_copy[j].keys())[0]])\n",
    "            if reg:\n",
    "                working_set_copy[j][list(working_set_copy[j].keys())[0]] = re.sub(r'(\\.|,)([ ]){2,}(\\.|,)',reg.groups()[-1]+' ',working_set_copy[j][list(working_set_copy[j].keys())[0]])\n",
    "            if reg2:\n",
    "                working_set_copy[j][list(working_set_copy[j].keys())[0]] = re.sub(r'\\s{2,}(\\.|,)',reg2.groups()[-1]+' ',working_set_copy[j][list(working_set_copy[j].keys())[0]])\n",
    "\n",
    "        reggs = re.search('(\\[)(.+)(\\])',working_set_copy[j][list(working_set_copy[j].keys())[0]])\n",
    "        if reggs:\n",
    "            working_set_copy[j][list(working_set_copy[j].keys())[0]] = re.sub('(\\[)(.+)(\\])',reggs.groups()[1],working_set_copy[j][list(working_set_copy[j].keys())[0]])\n",
    "            \n",
    "        working_set_copy[j][list(working_set_copy[j].keys())[0]] = re.sub('([\\. | |pic\\.].{,25}[ ]+—[ ]+[a-zA-Z ]+\\s\\(@\\w+\\)\\s\\w{3,9}\\s\\d{1,2},\\s\\d{2,4})','. ',working_set_copy[j][list(working_set_copy[j].keys())[0]])\n",
    "        working_set_copy[j][list(working_set_copy[j].keys())[0]] = re.sub(r'\\s{2,}View this post on Instagram\\s{2,}A post shared by .{2,15}\\s?\\(@.+\\)','',working_set_copy[j][list(working_set_copy[j].keys())[0]])\n",
    "    return working_set_copy[:num_of_new_articles]\n",
    "        \n",
    "    \n",
    "\n",
    "    \n",
    "articles = clean_up(working_set_reversed)\n",
    "print(articles[:5])"
   ]
  },
  {
   "cell_type": "code",
   "execution_count": null,
   "id": "9760f53c",
   "metadata": {},
   "outputs": [],
   "source": []
  },
  {
   "cell_type": "code",
   "execution_count": null,
   "id": "7c73df7d",
   "metadata": {},
   "outputs": [],
   "source": []
  },
  {
   "cell_type": "markdown",
   "id": "332c60c4",
   "metadata": {},
   "source": [
    "# nltk "
   ]
  },
  {
   "cell_type": "markdown",
   "id": "35e63125",
   "metadata": {},
   "source": [
    "We basically just take the most common word from each articles and that's our summary "
   ]
  },
  {
   "cell_type": "code",
   "execution_count": 70,
   "id": "363d287d",
   "metadata": {},
   "outputs": [],
   "source": [
    "from collections import Counter\n",
    "from nltk.tokenize import sent_tokenize,word_tokenize,PunktSentenceTokenizer\n",
    "summary = []\n",
    "\n",
    "for j,i in enumerate(working_set_reversed[:num_of_new_articles]):\n",
    "    counts = Counter(sent_tokenize(working_set_reversed[j][list(working_set_reversed[j].keys())[0]])).most_common(int(len(sent_tokenize(working_set_reversed[j][list(working_set_reversed[j].keys())[0]]))*0.3))\n",
    "\n",
    "    summary.append({list(working_set_reversed[j].keys())[0]:' '.join([k[0] for k in counts])})\n"
   ]
  },
  {
   "cell_type": "code",
   "execution_count": 71,
   "id": "93b952aa",
   "metadata": {},
   "outputs": [
    {
     "name": "stdout",
     "output_type": "stream",
     "text": [
      "{'Mom Called for Jury Duty Has No Babysitter — So She Shows Up with 1-Year-Old Triplets in Tow (Exclusive)': \"Torrey Scow didn't want to face the $1000 fine for skipping jury duty, so she packed up her four kids for what ended up being an adventure Torrey Scow Instagram Torrey Scow is used to getting looks as she goes about her daily life with four kids — triplets Lexi, Zoey and Lincoln, 18 months, and daughter Emory, 5 — but when she shared her experience at jury duty, others really took notice. In June, the mom of four was called to jury duty and thought a lack of child care would allow her to reschedule. I even sent them a picture because I wanted them to know how hard it is for me to find a babysitter, because the only person I have that can handle all four kids is either myself or my husband, or my mom, Torrey tells PEOPLE of the incident. It'd be easier if they were older toddlers, but they're still babies who need bottles and changing at different times. But they ended up sending me a random day around three days out from the day I got it. Never miss a story — sign up for PEOPLE's free daily newsletter to stay up-to-date on the best of what PEOPLE has to offer, from juicy celebrity news to compelling human interest stories. Related: Mom Goes Viral After Sharing Son&#39;s Honest Birthday Invitation — and Says Come with No Expectations With husband Kory at work and her only babysitter out of town, Torrey submitted to having to do it on her own. I told my husband, 'Don't worry about it. I bet if I just take them, they'll probably see me and send me right home. It'll be fine.' The day of jury duty, Torrey recalls she didn't even put shoes on them because I just thought, 'We're not going to be there long.' To her surprise, Torrey was kept there. I walked into this room and it's just dead silent. There are all these adults there by themselves and one other mom with twins, but they were older] and well-behaved. Torrey relied on her arsenal of snacks to try to keep the toddlers busy. I think they ate more snacks than they ever had in their lives at that point because it was the only thing that was keeping them quiet, she says. After a while, the snacks stopped working as the antsy little ones wanted to roam. They start screaming, but they're in this stage where they scream at the top of their lungs. It's not possible to get one baby quiet, let alone three.\"}\n",
      "{'Clint Eastwood’s Reaction to His Former Mistress’ Death Shows How Strong Their Connection Was': \" Losing someone, whether they’re a close family member or not, can be very painful. For Clint Eastwood, who just recently lost his former mistress and the mother of his daughter Kimber, Roxanne Tunis, the loss has reportedly hit him hard. Roxanne’s death was very emotional and more emotional than he ever expected,” a source told Daily Mail following the announcement of Tunis’ passing. Per the statement, Tunis passed away at age 93 after a brief illness.” More from SheKnows Ariana Grande's Reported Reaction to Ethan Slater's Divorce Shows the Backlash Has Not Deterred Her  Per the source, Eastwood’s grief over Tunis has extended far beyond their relationship and made him question his whole life too. Her loss not only gutted him but also made him think more about his mortality, which he never does,” the source said of the 93-year-old actor. Clint loves living life,” the source continued.\"}\n",
      "{'Lil Tay Emerges to Say She’s NOT Dead: ‘My Brother and I Are Safe’': 'Viral teen internet star Lil Tay surfaced on Thursday to tell TMZ that she is not, in fact, dead. I want to make it clear that my brother and I are safe and alive, but I’m completely heartbroken, and struggling to even find the right words to say,” she told the outlet. It’s been a very traumatizing 24 hours. All day yesterday, I was bombarded with endless heartbreaking and tearful phone calls from loved ones all while trying to sort out this mess.” The bizarre hoax began when a statement was posted on Lil Tay’s Instagram on Wednesday, purportedly from her family, announcing that both Tay and her brother had died. We have no words to express the unbearable loss and indescribable pain,” the post said. This outcome was entirely unexpected, and has left us all in shock.” ‘Really F*cking Confused’: Lil Tay’s Inner Circle Casts Further Doubt on Her Death However, the rapper and social media star claimed to TMZ on Thursday that her Instagram account was hacked. She claimed Meta helped her regain access to her account, and the original post has since vanished.'}\n",
      "{\"21 Heartbreaking Images Of Hawai'i's Deadly Wildfires And Its Devastating Effects\": \". 1. On Tuesday, the National Weather Service alerted Hawai'i  residents of a red flag situation — where dry conditions mixed with strong winds from Hurricane Dora, a category 4 storm off the southern coast, and the local environment became susceptible to fire risk. While well to the south of the Hawaiian Islands, Hurricane Dora is creating strong winds across the Islands which are creating dangerous fire conditions. Twitter: @NWS 2.Now, fast-moving fires are spreading throughout communities, including the island of Maui and its historic town of Lahaina, which was once home to King Kamehameha III, who united Hawai'i under a single kingdom, AP News reports. Today, the gravesites of kings and queens lie at Wainee Church in Lahaina. 3. Now, much of the town has been scorched by ongoing fires. When a whole city is on fire: Lahaina/Hawaii as seen from a passenger plane  #Maui #Lahaina #lahainafire #MauiFires #Hawaii #hawaiifires . Twitter: @sdietzf1 4.On Wednesday night, it was reported that 36 people had been killed. 5.According to CBS News, officials say this number is expected to rise as search and rescue efforts are underway. 6. Videos taken by those on the ground show homes and businesses on fire. Another video- Video of the destruction on Front Street, a historic site in West Maui.Oh God, please forgive our mistakes and save us, please.#Maui #Lahaina #lahainafire #MauiFires #Hawaii #Hawaiifire #wildfires .\"}\n",
      "{'Top mountaineer defends walking past dying Sherpa in pursuit of K2 record': 'Coast Guard reports rescuing more than 50 people who jumped into water to escape deadly Hawaii wildfire A top mountaineer has been forced to defend herself after accusations that her team climbed over a dying Sherpa as they headed to the summit of the K2 mountain to secure a new world record. Images of climbers clambering past the injured Pakistani on a treacherous ridge on the same day that Norway’s Kristin Harila ascended have been condemned by fellow mountaineers. They claimed a Western climber would not have been left to die and said the scenes would be unthinkable in the Alps, igniting a row about how local Sherpas are used in the Himalayas. Harila, 37, climbed Pakistan’s K2 on July 27, securing her 14th highest peak in just over three months to become the world’s fastest climber to scale all peaks above 8,000 metres. During her ascent, porter Mohammed Hassan fell off a sheer edge at the top of the area known as the bottleneck, some 8,200 metres high. Ms Harila said her team did everything they could to save Mr Hassan, but conditions were too dangerous to move him. However, two climbers who were also on K2 that day claimed fellow mountaineers were more interested in setting records than saving lives, in an apparent dig at Harila. Wilhelm Steindl and Philip Flämig, an Austrian climbing duo, say drone footage they later recorded hours after Harila and her team had passed the ridge showed climbers walking over his body instead of trying to rescue him. It’s all there in the drone footage,” Mr Flämig told Austria’s Standard newspaper. He is being treated by one person while everyone else is pushing towards the summit.'}\n",
      "{'Paige Spiranac Hits the Golf Course in Plunging Athleisure Micro Mini': 'Marcus Ingram/Getty Images Paige Spiranac is back at it with another Instagram reel on the green. The media personality and golf instructor shared a clip of herself playing with an iridescent putter on Aug. 10. After perfectly sinking her shot, she walked toward the hole, grabbed her ball and gave the camera a sly smile. In addition to her Swag Golf putter, the 30-year-old rocked casual athleisure, as per usual. Spiranac donned a plunging white mini dress with a zip-up top.'}\n",
      "{\"America's highest earners are getting hit hardest by a slowing labor market\": \"Fed's Daly tells Yahoo Finance there's 'still more work to do' on inflation The labor market is beginning to cool, and it's hurting America's highest income cohort the most. New data from Bank of America released Thursday shows that the number of US households in the $125,000+ income bracket receiving unemployment benefits increased by more than 60% in July from a year ago, per the bank's internal data. That compares to an increase of about 40% for households making $50,000 to $125,000 annually, and a rise of more than 20% for those in the under $50,000 bracket. Overall, the unemployment rate remains historically low. Our deposit data continues to show signs that unemployment is picking up from these very low levels at a faster pace for higher-income earners, BofA Institute wrote on Thursday. The number of such households who received an unemployment benefit deposited into their Bank of America account rose by around 3x the rate for the lower-income group.\"}\n",
      "{'Student cleared in stolen AirPods case after 3-year ticket battle': \"Coast Guard reports rescuing more than 50 people who jumped into water to escape deadly Hawaii wildfire Amara Harris was issued a $120 ticket after being accused of stealing another high school student's ear buds in 2019. For 20-year-old Amara Harris, it was a matter of principle. For more than three and a half years, she stood her ground, refusing to pay a $120 ticket issued to her by police who charged her with having stolen a classmate's AirPods at Naperville North High School in suburban Chicago. Harris never deviated from her initial account of what happened, saying she'd simply picked up the wrong AirPods and had never meant to steal them from another student.\"}\n",
      "{'Helen Mirren’s go-to beauty secret for ageless skin, hair and nails is on sale for $15': \"Castor oil is loved by celebrities and shoppers alike. The glass dropper, lash brush and brow comb make application a breeze! If you’ve been in the market for an affordable, multitasking beauty product, you’re in luck! The much-maligned castor oil is a surprising celeb-loved skincare staple that's used to promote eyebrow, lash and hair growth, to moisturize skin and to help reduce the appearance of blemishes, fine lines and wrinkles. Helen Mirren shared on her Instagram that she uses it not for its laxative properties, but for hair, skin, nails. The queen has spoken. While there are a ton of different castor oils on the market, more than 66,700 five-star Amazon shoppers swear by this option by Kate Blanc, and it can be yours for just $15. The top-rated beauty product is all-natural, cold-pressed and certified organic. Plus, it comes in a pretty amber glass bottle and includes a glass dropper to help you efficiently apply the product.\"}\n",
      "{'Why it won’t just be up to the James family whether Bronny plays for USC — or any other school': \"The death of Hank Gathers has made universities more cautious in clearing athletes to play through a heart condition. Nine years ago, Chai Baker awoke to a bewildering scene. The Oregon State basketball player had no idea why he was in a hospital bed, a tube down his throat, a monitor tracking his vital signs and loved ones by his side. It was terrifying,” Baker said. I didn’t know what happened. I didn’t even know where I was or how long I’d been there.” Baker soon learned that he’d collapsed two days earlier during a workout at Oregon State’s practice facility. At first, teammates noticed him gasping for air in the layup line. Moments later, athletic trainer Tom Fregoso was scrambling to administer CPR and shock Baker’s heart back into rhythm after the 19-year-old crumpled to the court and began convulsing. The cause of Baker’s cardiac arrest turned out to be hypertrophic cardiomyopathy, a hereditary heart condition that Baker had never heard of before. He initially didn’t grasp the severity when his physician told him that it causes the heart muscle to thicken and stiffen abnormally, impeding blood flow and increasing the risk of arrhythmias. By the time Baker returned to campus after a week in the hospital, he had made up his mind not to let his diagnosis stand in the way of his dreams. He felt fit and strong again. He had no chest pain or other symptoms. He was eager to implant a defibrillator in his chest so that he could return to playing basketball as quickly as possible. Baker says he would’ve risked playing for Oregon State had the university not intervened and taken the decision away from him. Oregon State director of sports medicine Douglas Aukerman informed Baker in early November 2014 that the threat of another cardiac incident was too severe, that Baker could remain on scholarship but he couldn’t play again for the Beavers. When they didn’t clear me to play, it kind of crushed me,” Baker said. It was very, very hard. I still felt physically like I could play. I didn’t understand the severity of my situation and I didn’t take it well.” Baker’s story hints at what may be ahead for Bronny James as he undergoes testing to determine the cause of his cardiac arrest on July 24 and evaluates whether to keep pursuing basketball. It isn’t only up to LeBron James' eldest son and his family how much risk of a cardiac arrest recurrence they can tolerate. USC will also have to assess if the threat is too much to clear the highly touted incoming freshman to play for the Trojans. A USC spokesperson declined comment when Yahoo Sports asked for an explanation of how the university decides whether to clear an athlete with a newly diagnosed heart condition. Cardiologists who have been involved in these decisions say that universities typically evaluate anything from the athlete’s risk of cardiac arrest, to the threat of a lawsuit or barrage of negative publicity if something went wrong. With college sports, there are lots of stakeholders that have an interest in the athlete playing but also not wanting to take on additional liability,” said Lili A. Barouch, director of sports cardiology at Johns Hopkins University School of Medicine. It’s tough. It’s not always a straightforward decision.” The Hank Gathers impact It’s easy to pinpoint when schools started becoming more cautious about the risk of allowing athletes to play through a heart condition. It was the day that a supremely talented prospect with so much life in front of him stumbled, collapsed and never got up again. Hank Gathers often declared himself to be the strongest man alive, but the Loyola Marymount forward wasn’t as invincible as his muscular physique and charismatic personality suggested. He had a heart condition that caused him to faint during a December 1989 game against UC Santa Barbara and to suffer fatal cardiac arrest three months later after a soaring alley-oop dunk against Portland. The aftermath of the tragedy devolved into a deluge of malpractice and negligence allegations against the school, the doctors who treated Gathers and even his coach. Beverly Hills attorney Bruce Fagel filed a $32.5 million lawsuit on behalf of the Gathers family that ultimately netted a $545,000 settlement. Gathers’ death lingered in the national headlines long after the LMU men’s basketball team finished honoring its fallen star with an emotional Elite Eight run. Decades later, his story still casts a shadow over a struggling basketball program that has not won a conference title since 1990 nor returned to the NCAA tournament. That high-profile incident and another involving Boston Celtics star Reggie Lewis inspired research into whether these deaths were anomalies.\"}\n",
      "{\"After multiple scandals, beauty influencer Jaclyn Hill announces she's shutting down some brands: 'I definitely feel ashamed and like I blew it'\": 'Just weeks after landing herself in yet another social media scandal, beauty influencer Jaclyn Hill issued a surprising announcement on YouTube: She’s shutting down several of her brands. It’s taken me a while to get to the place to have the confidence and the vulnerability to sit down and have this conversation with you guys,” Hill said in the teary-eyed video. But I want to talk to you about what’s been going on in my personal life and behind the scenes of the camera that has led to me making the decision — on my own — to shut down both Jaclyn Roxanne Jewelry and my Koze comfort line.” Hill, whose real name is Jaclyn Torrey, first became known in 2011 after launching a beauty channel on YouTube. Her videos quickly became so popular that, over the next 12 years, Hill grew her audience to more than 5.5 million subscribers, plus nearly 10 million followers on Instagram and TikTok. Along the way, she launched multiple beauty and lifestyle-related brands; but her rise to fame didn’t come without some drama. Hill has been mired in multiple controversies over the years — including her most infamous one in 2019 when customers claimed that a lipstick from her newly launched makeup brand, Jaclyn Cosmetics, arrived broken, lumpy and even dirty. At the time, Hill apologized to anyone dissatisfied with the product but insisted there was nothing wrong with her lipsticks. My lipsticks are not moldy. They are not hazardous. They are not contaminated. They are not unsafe for you in any way, shape or form,” said Hill. Every single ingredient in my lipstick is new and is FDA-approved.” Still, not everyone was happy with how she handled things. According to WWD, Hill momentarily deleted her social media accounts, and the Jaclyn Cosmetics website was even briefly taken down after the brand initially promised full refunds to any customer who wanted one.'}\n",
      "{'Lizzo lawsuit: Why experts say the allegations are already damaging her brand': \"Have more accusers come forward? And what happened with Made in America? Here's the latest. Lizzo is continuing to make headlines one week after being sued by three former dancers for sexual harassment, facilitating a hostile work environment and other troubling claims. The Grammy winner has denied all wrongdoing. As the controversy unfolds, there are more questions than answers. Have more dancers come forward? Did the lawsuit have anything to do with the cancellation of the Made in America music festival? And what does this mean for the singer's positive brand and reputation in the long run? Here's the latest... Are there more accusers? Last week, Arianna Davis, Crystal Williams and Noelle Rodriguez sued Lizzo, her production company (Big Grrrl Big Touring, Inc.) and Shirlene Quigley, the captain of her dance team. In the complaint viewed by Yahoo Entertainment, they claim they were weight-shamed and faced religious and racial harassment, assault and false imprisonment, among other allegations. (Not every allegation was brought against each defendant.) The law firm representing Davis, Williams and Rodriguez says other people have come forward with similar claims. We have received at least six inquiries from other people with similar stories since we filed the complaint, Ron Zambrano, partner and employment litigation chair at West Coast Employment Lawyers, told Yahoo Entertainment on Wednesday. Noelle, Crystal and Arianna have bravely spoken out and shared their experiences, opening the door for others to feel empowered to do the same. Some of the claims we are reviewing involve allegations of a sexually charged environment and failure to pay employees and may be actionable, but it is too soon to say.\"}\n",
      "{'NHL outliers: Players who like to fight, hit or keep their noses clean': \"The NHL is full of players whose physicality is a key part of their identity, as well as guys who avoid contact whenever possible. This series will shine a light on the most unusual NHL players — the guys who stand out from their peers in one way or another. Part 3 looks at the most and least physical players in the league. Previous articles: Size and Nationality — There is an absolutely massive range in physicality among NHL players as some make their living by throwing their body around and others see hard contact as an obstacle rather than a goal. Although the game has become more and more dominated by skill in recent years, there are still plenty of guys who earn their salaries by making life painful and difficult for opponents, while leaving the scoring to others. The players highlighted below either embrace the physical aspect of the sport more than any of their peers, or opt to rarely — if ever — engage with it. The most prolific hitter: Michael Pezzetta, LW, Montreal Canadiens Laying out opponents is Pezzetta's calling card, as he offers limited offensive value and has an average ice time of 8:39 in his brief NHL career. Over the last two seasons, the 25-year-old has delivered 24.01 hits per 60 minutes — significantly more than the man who ranks second by that metric (Ryan Reaves at 20.13). The winger has never had much of a role beyond tone-setting in his professional career. He's produced 26 points in 114 NHL games and 25 points in 115 AHL games. Even in the OHL, he managed just 0.46 points per game. Listed at 6-foot-1, 210 pounds, Pezzetta isn't a massive wrecking ball of a human being, but he has a knack for making his presence felt. Michael Pezzetta with the HUGE hit and then casually tosses the gloves to meet Austin Watson  pic.twitter.com/YeoZohF5NQ — B/R Open Ice (@BR_OpenIce) February 26, 2023 It's difficult to quantify the utility of a guy like Pezzetta, but clearly the Canadiens think he's an asset as Montreal signed him to a two-year extension in June. The least prolific hitter: Johnny Gaudreau, LW, Columbus Blue Jackets  It makes sense that a 5-foot-9 offensive winger listed at 165 pounds wouldn't be among the NHL's top hitters, but Gaudreau's total avoidance of hitting sets him apart. The 29-year-old delivered just five hits in 2022-23 despite playing in 80 games and skating 19:25 per night.\"}\n",
      "{'Aileen Cannon and Tanya Chutkan: What to know about the judges in Trump’s federal trials': 'Coast Guard reports rescuing more than 50 people who jumped into water to escape deadly Hawaii wildfire The courts have randomly assigned two very different judges to oversee former President Donald Trump’s upcoming federal criminal trials. In Washington, D.C., where Trump faces charges of conspiring to overturn his loss in the 2020 presidential election, District Judge Tanya Chutkan — a Barack Obama appointee — is running the show. In Florida, where Trump has been indicted for hoarding classified documents, District Judge Aileen Cannon — a Trump appointee — is at the helm. Guess which judge the defendant prefers. I’m very proud to have appointed her,” Trump gushed about Cannon last month. She’s very smart and very strong, and loves our country. We need judges that love our country so they do the right thing.” As for Chutkan, Trump has been more … critical. There is no way I can get a fair trial with the judge ‘assigned’ to the … case,” he posted Sunday on Truth Social. Everybody knows this, and so does she! We will be immediately asking for a recusal of this judge on very powerful grounds.” Even though experts say Trump’s demand that she be recused is meritless — and his own lawyers have signaled that they agree — the former president and his allies are certain to keep pleading his case in the court of public opinion. (Chutkan will rule Thursday on special counsel Jack Smith’s request for a protective order to prevent Trump from publicly targeting individuals.”) Politics aside, which judge is actually more likely to preside fairly, that is, by neither opposing nor favoring Trump? Here are the facts so far.'}\n",
      "{'Fantasy Football Mock Draft: 10-team dynasty startup': \"It's fantasy football mock draft season, and things are no different here at Yahoo Sports. Our team recently conducted a 10-team, dynasty startup fantasy football mock (with half-point-per-reception scoring), and all the picks are in the cool graphic up top. Scroll to the right of the graphic above to see the complete results of the draft. For those unfamiliar with dynasty formats, it's a league where you retain your roster season-to-season compared to a redraft league where rosters reset every year. A dynasty league is also different from a keeper league, where you're limited in the number of players you can retain. Our partners at 4for4 have a more in-depth look at dynasty leagues. More mock drafts: 10-team half-PPR | 12-team full-PPR] Don’t be a massive ageist. Please. I’m begging you to not be solely youth-focused when you head into these exercises. This particularly applies to the early rounds. Take, for example, a guy like Davante Adams in this exercise. He went in the bottom of Round 3 behind multiple wide receivers who, while I like their games quite a bit, don’t have a prayer of being as good as Adams over the next two seasons — or ever, for that matter. You could argue even I’m guilty of this type of ageism by taking Brandon Aiyuk one pick ahead of Cooper Kupp in Round 4. I know there are some dynasty folks who will read this and laugh at the idea of the next two years,” as if that’s all that matters. I’ll just say that windows are never as long as you think and the exercise of a dynasty rebuild is no lock to work out. Look, building dynasty rosters is a matter of personal preference — subjective player evaluation comes into the mix along with differing goal-based timelines and varying opinions about positional value. So, honestly, maybe don’t even take anything I’m writing in this recap seriously. It’s your team. Who cares what anyone has to say? Me included. [Join or create a Yahoo Fantasy Football league for free today] Personally, I’m not trying to play dynasty fantasy football like it’s some pseudo-stock market or pretending internet player values” or rankings mean anything at all to individual league managers. I am just both trying to win the league every season and keep players on my team whom I think are good at football. That requires a balanced roster of promising youth and high-caliber players who may perhaps be rounding toward the back nine of their careers. As for you and your house, do as you please. Running backs crash the party I’ve been in some dynasty drafts where wide receiver is placed at a tremendous premium. That was not necessarily the case in this draft. Five running backs went in the first eight picks. Bijan Robinson landing third overall isn’t out of the ordinary. He’s an excellent prospect entering the league, already a clear Round 1 fantasy selection in redraft. So this sort of dynasty value makes sense. Even a guy like Christian McCaffrey, while a mild surprise as high as fourth overall, is such a rare producer that I can understand taking the plunge in Round 1. The other backs took me by surprise just a bit simply because we know the longevity concerns at the position. Round 2, on the other hand, saw just three RB selections as drafters turned their eyes to receivers. Ironically, all three drafters that took running backs at Pick 6, 7 and 8 in Round 1 ended up with a wide receiver I’d straight-up rather roster in dynasty. So I guess that worked out. The most interesting back in Round 2 is Breece Hall right at the top. I understand he’s currently dealing with an injury but I’d guess that if Hall has an awesome stretch run or back half of 2023, he’ll be a first-round startup selection in 2024 given his age and explosive ability. If you don’t break the QB dam early, just wait Speaking as one of the folks who helped break the quarterback dam in Round 3, I’m perfectly happy with making the major swing for Josh Allen even in a 1QB league. I won’t think about that position again for many years other than churning the QB2 spot, which I didn't even bother to address in this draft considering some of the names on the waiver wire. In total, three quarterbacks — Allen, Jalen Hurts and Patrick Mahomes — went off the board in Round 3 with Joe Burrow not far behind in Round 4. Four more quarterbacks went off the board in Rounds 5 and 6. While I like some of those swings, especially Anthony Richardson in Round 6, I do worry some of these quarterbacks aren’t going to be enough of individual difference-makers over the long-term in a start-one quarterback format. They’ll have their moments, certainly, but remember we need to start three wide receivers and a flex in this league. Value over replacement and opportunity cost matter just as much in a dynasty startup as they do in your seasonal leagues. I ended up liking the approach of a drafter like Dan Titus who waited until the double-digit rounds and took multiple bites of the apple with upside swings mixed in. That’s a viable strategy in this format. Wide receiver is just so deep We get to rounds 8, 9 and 10 and it’s tough for me to find a receiver pick I do not like. You can get veterans with strong near-term windows in this range like Mike Williams, Christian Kirk and Tyler Lockett. You can take big swings on talented second- and third-year guys like George Pickens, Rashod Bateman and Elijah Moore who all have a shot to rocket up startup boards next year with a few breaks in 2023. You can also just make your Tier 3 rookie bets in this range like Jalin Hyatt, Rashee Rice and Jonathan Mingo (my favorite pick here). Definitely stack your team early with high-caliber WR1 candidates. But don’t forget to start rounding out at receiver as it gets later. Some second- and third-year running backs went late If you’re going receiver early and taking the plunge on an elite quarterback in a startup you’re sacrificing at running back. That was my approach. The good news is that there are multiple Year 2 and 3 running backs who could hold down the top spot on their team’s depth chart for a few seasons, at least. We know this position is hyper fragile and even highly drafted or very good players can be usurped at any moment. That applies to the guys like Rhamondre Stevenson, Dameon Pierce, Travis Etienne and Najee Harris. But again, if we’re just thinking in those near-term windows, those guys can help keep your team strong for now as your wide receiver corps does the heavy lifting. You just have to plan to do some tinkering on an annual basis with your backfield. The dynasty TE landscape is even weirder than redraft Just one tight end came off the board in Round 3 and of course, it was Travis Kelce. The Chiefs tight end will turn 34 this season but the position is in such a state of flux, even the most youth-focused, fake stock-broker dynasty player couldn’t form a credible argument to hate that pick. We then saw three tight ends get picked in Rounds 4 and 5, and then another three between Rounds 7 and 9. Moral of the story: we don’t even know what to do with this position long-term. Never once did it ever feel like this draft was about to experience a tight end run as we witnessed at other positions. The tier breaks at tight end are difficult to project and the gap between said tiers is massive. [Overall Top 300 | QBs | RBs | WRs | TEs | DEFs | Ks Jahan Dotson is likely the most underrated dynasty WR Jahan Dotson is a very good football player. He was a completely underrated prospect who even outkicked my lofty expectations with his ability to beat press coverage as a pure outside receiver. It wasn’t that Dotson went super late here. He came off the board in Round 6 (shockingly, to my team). When looking at the 2022 drafted receivers, Dotson is much closer to Chris Olave, Garrett Wilson and Drake London as a talent than he is to Christian Watson, Treylon Burks and George Pickens. Dotson is a crisp and refined route runner — but that’s not all he is; people who think that are just profiling him based on size. Dotson showed in Year 1 he’s just as capable of making explosive plays in the vertical passing game and winning contested passes as some of these bigger receivers folks like more. Too many people who play fantasy football are still wide receiver size-ists. Take advantage of them. The QB situation still isn’t clean and he’s paired with a true alpha, top-10 real-life receiver in Terry McLaurin but everything about Dotson as an individual player is screaming upward trajectory. I think too many dynasty players didn’t really watch him as a rookie and are still holding onto pre-draft priors. Here are the team-by-team results of the mock draft in order of selection. Team 1: Andy Behrens, Yahoo Fantasy Analyst Player Overall pick Player Age 1. (1) Justin Jefferson (Min - WR) 24 2. (20) Nick Chubb (Cle - RB) 27 3. (21) Jalen Hurts (Phi - QB) 25 4. (40) Terry McLaurin (Was - WR) 27 5. (41) Tony Pollard (Dal - RB) 26 6. (60) Najee Harris (Pit - RB) 25 7.\"}\n",
      "{\"Couple faces backlash after allegedly staging TikTok rescue of domestic violence victim: 'We don’t care that people get mad about it'\": 'Editor’s Note: This article contains mentions of domestic violence. Please take care while reading, and note the helpful resources at the end of this story. A couple filmed themselves following a car without a license plate after they noticed the woman in the passenger seat was flashing the universal help signal” for domestic violence victims. The TikTok racked up over 16 million views, but TikTok users are questioning whether the video was completely staged. In the clip, a woman in a nearby car seems to be intentionally holding her hand up to the window with her thumb tucked into her palm and then repeatedly folding her fingers down to cover her thumb. According to the World Bank, the single-handed gesture was originally created to address the rise in domestic violence cases during COVID-related self-isolation when victims could silently alert others over a video call or in-person. Tony Hernandez and Angel Porrino, the couple behind the video, typically post more lighthearted content like prank videos or hack tutorials. But a number of their top-performing videos include them capturing” a fight breaking out at the post office, unidentified surveillance footage of a drunk woman allegedly almost getting kidnapped and another video of a woman in a public place asking for help. None of the posts disclose whether they are staged or whether they came from another source. In their most recent video, Porrino, who is driving, can be heard telling Hernandez that she saw a woman in a passing car do that signal for help,” so they pulled up next to the car to look again. She did it again, she did it again,” Porrino said. What do we do?” Hernandez suggested they drop back behind the car and follow them. At one point Porrino can be heard speaking as if on the phone with a 911 operator. Hi, I’d like to report I think a situation of domestic abuse,” Porrino said.'}\n",
      "{'7 vacation dresses under $50 at Nordstrom Rack for all your end-of-summer travel plans': 'Going on vacation is obviously fun — but packing for it? Not so much. If you’re struggling to find the right outfits to fill your suitcase, these end-of-summer vacation dresses are a solid bet. Because a dress is one piece, you don’t have to worry about matching it with anything else. Pop a denim jacket over top if it gets chilly, and swap your flip-flops for heels if you want to dress it up. Dresses are also generally pretty breezy, so if the temps climb up well past 90 degrees Fahrenheit, you’ll still feel comfortable and as cool as sipping a piña colada (well, almost). Of course, you probably have something in your closet to take with you, but having something new to show off always feels good. And isn’t that the point of vacation: To feel good?'}\n",
      "{'Fantasy Football: Six intriguing RB sleepers to draft ': \"If there's one position at which we cannot possibly go too deep in our search for sleepers, it's running back. This is where chaos truly reigns. Austin Ekeler, a player who has finished among the top-five fantasy backs in consecutive years, was originally signed by the Chargers back in 2017 as an undrafted free agent. His backstory isn't particularly unusual, either. In fact, since 2010, we've seen 17 different undrafted running backs produce 32 individual seasons of at least 1,000 scrimmage yards. If actual NFL scouting departments can't get this position figured out, what chance do the rest of us have? As fantasy managers, we need to repeatedly take late swings at this spot in our drafts, because late-round breakouts are absolutely guaranteed. It's often the rookies who deliver the best ROI — think Tyler Allgeier and Isiah Pacheco in 2022 — so any list of sleeper backs needs to feature a few first-year fliers. Join or create a Yahoo Fantasy Football league for free today (Important reminder: We're only talking deep sleepers in this series, players available in two-thirds of Yahoo leagues. If you came for Elijah Mitchell and James Cook content, you are in the wrong place. Here, we're drilling a bit deeper, looking for lightly rostered players with clear paths to fantasy relevance. Like this gentleman, for instance ... ) Tank Bigsby, Jacksonville Jaguars (25% rostered) Bigsby was a third-round pick out of Auburn who was plenty productive over multiple collegiate seasons and he's producing daily highlights in his first NFL camp: Tank Bigsby Been going crazy during training camp . He's also a weirdly perfect complement to Travis Etienne, a talented rusher who's had his issues near the goal line and as a receiver. Bigsby has drawn steady praise for his route-running and receiving ability throughout the summer, including camp sunshine from Doug Pederson himself. There is simply no way Bigsby won't have a role in his first season.\"}\n",
      "{'Ford shows Fox Body Mustang owners some love with new parts': \" See Full Image Gallery >> It's always nice when an automaker tosses its most ardent supporters a bone or two in the form of new parts. That's exactly what Ford did when the Ford Performance division announced some new Fox Body Mustang accessories at an enthusiast gathering for the third-gen pony car. It's hard to believe, but even the newest Fox Body Mustangs are 30 years old now. They're bona fide classics, and Ford recently hosted a Foxfest car show at its Dearborn, Michigan, headquarters for fans of the platform. At the event, Ford announced and showed off new seats and car covers for the Fox Body, along with some other bits for the S550 Mustang as well. The Monza 2.0 seats are made by Recaro and were designed for the Fox Body — with squared-off seat backs and headrests that look right at home in the '80s body style.\"}\n",
      "{'Fantasy Football Sleepers: Five WRs who could surprise in 2023': \"If you only started playing fantasy football within the past decade, then you have never known a time when rookies weren't routinely among the top scorers at wide receiver. It falls upon me, as an elder, to inform you that this was not always the way of things. Join or create a Yahoo Fantasy Football league for free today We actually used to produce an annual feature on third-year breakout receivers, because no sensible person expected fantasy relevance from an unseasoned, inexperienced wideout. It was considered a slow-developing position with a steep learning curve, like pretty much every roster spot except running back. Randy Moss was a revelation in 1998, but he was entirely unique in the history of the league. And then 2014 happened. Odell Beckham Jr. was an instant superstar, a target magnet, almost cartoonishly gifted. Mike Evans and Kelvin Benjamin each topped 1,000 yards as rookies as well, and Sammy Watkins finished with 982. First-year receivers were suddenly all over the fantasy leaderboard, where they've remained ever since. Today, we're not even remotely surprised to see Garrett Wilson catch 83 balls for 1,103 yards in his first pro season. If you were out on Wilson last year — or Chris Olave, or Christian Watson — because of some lingering mistrust of rookies, all it accomplished was a reduction in your odds to win your leagues. With this fact in mind, we can't very well provide you with a list of sleeper wide receivers that doesn't include a rookie or two. Each of the recommended fliers below are currently available in at least two-thirds of Yahoo leagues.\"}\n",
      "{\"Cindy Crawford shares 'lake life' snaps and fans say it 'looks like Muskoka'\": 'The supermodel could be back in Ontario for the second time since pandemic restrictions lifted. American supermodel Cindy Crawford is sharing snaps from her lake life vacation, in what could be her Ontario property. The 57-year-old star took to Instagram on Thursday with a carousel of lakeside photos. In the first snap, Crawford posed topless in a hot tub looking out towards the nature.'}\n",
      "{'Fantasy Football: Seven key players unlikely to meet their Yahoo projections': \"A lot of data gets taken into account when it comes to a player's fantasy projection in a given season. Fantasy analyst Antonio Losada highlights some 2023 projections he thinks are too high. QB Trevor Lawrence, Jacksonville Jaguars — Yahoo Projection: 331.66 points Trevor Lawrence kicked off his professional career in 2021 to much fanfare and as hyped as you could imagine after wrapping up his college days early. He wasn't even a remotely great fantasy player in his rookie season (he nearly missed the top-25 QB list that year) but last season was an entirely different story for the then-sophomore Jaguar. Entering 2023, Yahoo projects T-Law to throw passes for a few hundred more yards than he did last year, to break the 30+ touchdown barrier, and to finish with 330+ fantasy points for an average of around 19+ FP per game next season. Sorry, but I just can't see such a jump happening this early in his career. Lawrence will play his age-24 season in 2023. He should be years away from reaching his absolute prime. Even then, he's already put up gaudy numbers so there might not be much room to grow in Jacksonville for him. The sophomore QB threw the seventh-most passes last year (nearly 600 already), accrued the ninth-most passing yards and boosted his fantasy value with the fifth-best and 10th-best marks on rushing touchdowns (five) and yards (291). We were told Lawrence was going to be a generational player, so hey, perhaps he can put up Yahoo's projections. That said, the platform is expecting Lawrence to do something only the other 11 quarterbacks have done before him (baseline of 4,400+ passing yards, 30+ TDs, and 25+ rushing yards). In the last five years only Joe Burrow, Josh Allen, Justin Herbert and Patrick Mahomes reached those benchmarks in their third pro-seasons or earlier. However, Lawrence will need to reach those numbers with Calvin Ridley as his WR1, who's coming off spending more than a year on the shelf. Not trusting this projection just one bit. QB Russell Wilson, Denver Broncos — Yahoo Projection: 301.42 points The Denver Broncos started a new era last season when they decided to trade their house away for the right of calling Russell Wilson one of their own. Denver decided to make another bold move this summer, the second in as many years, by hiring former Super Bowl champion HC, Sean Payton. Will the Broncos' offense suffer a sudden improvement and rise as a whole on their way to fixing their 2022 wrongs? Allow me to think that won't happen — at least, not to the extent Yahoo is projecting it. Wilson is coming off the worst season he's ever played in the NFL. He posted his worst marks on total fantasy points, FP per game and FP per snap. Wilson threw his fewest touchdowns ever (16), the second-most interceptions through his career (11) and completed a measly 60.5% of his 292 pass attempts, another career-low. The Broncos' offense, barren of truly talented weapons, didn't help. It won't help this year, either, as Denver has already lost WRs Tim Patrick and KJ Hamler for the season and will need to ease RB1 Javonte Williams in as he's coming off an ACL injury. While the change of head coach might turn into a volume boost on the passing front, I'm not buying the overall improvement of this offense and therefore I think Wilson will fail to deliver for the second season in a row.\"}\n",
      "{'Frozen cereal hack goes viral on TikTok, and cereal lovers’ minds are blown: ‘You’ve just changed my life’': 'Breakfast lovers are wondering how they ever ate cereal without this latest TikTok hack, which is being hailed as life-changing. TikToker Kalyn Coriano (@kalyncoriano) gained over 1.8 million views, 127,000 likes, 7,800 saves and 1,200 comments when she uploaded the breakfast food hack to her account. While breakfast tends to be a hot topic on the app — as with the mysterious egg ick” affliction, from which apparently millions of TikTokers suffer — Coriano’s video seems to be beloved by cereal lovers across the app. While Coriano was only attempting to hop aboard the girl dinner” trend with her TikTok, it seems she accidentally unleashed a viral sensation all its own with her frozen cereal hack. Rather than keep her open cereal bags in their original boxes and on a shelf, she tightly rolls them up and stores them in her pull-out freezer. Not only does this hack prevent cereal from going stale, it also makes for a better overall cereal experience, as it keeps milk cold and the cereal crunchy.'}\n",
      "{'Hawaii wildfires live updates: At least 36 dead as Lahaina burns to the ground': \"Donations can be made here. At least 36 people have been confirmed dead on the island of Maui after ferocious winds caused by Hurricane Dora in part fueled devastating wildfires across Hawaii, forcing thousands of people to evacuate. We are still in a search and rescue mode, so I don’t know what will happen to that number,” Maui County Mayor Richard Bissen Jr. said during a news conference late Wednesday. President Biden on Thursday approved a major disaster” declaration for the state. Speaking from Utah, he said: Anyone who's lost a loved one, whose home has been damaged and destroyed is going to get help immediately. Several organizations — like the American Red Cross, Maui Humane Society and Hawaii Salvation Army — are working to help those affected by the fires. Here's how you can help the wildfire victims. Yahoo News is providing live updates on the wildfires in the blog below. The latest on the wildfires • At least 36 people have been confirmed dead as wildfires raged across Maui, forcing thousands of people to evacuate.• The historic town of Lahaina was nearly burned to the ground, officials said.• With lives lost and properties decimated, we are grieving with each other during this inconsolable time,” Maui Mayor Richard Bissen said in a Facebook video.• The U.S. Coast Guard said it rescued more than 50 people who jumped into the Pacific Ocean to escape the flames.• President Biden approved a disaster declaration for Hawaii to unlock federal aid for those affected by fires. Maps and images show wildfire devastation scale An aerial view shows smoke as wildfires ravage the island in Maui, Hawaii, on Wednesday. County of Maui via Reuters) One of the hardest hit areas of the Hawaii wildfires has been the beachfront town of Lahaina, a town that's popular with tourists, and where hotels and entire neighborhoods have been destroyed, according to the BBC. Fires are still active on the second-largest Hawaiian island, with high winds from Hurricane Dora exacerbating the spread of the wildfires. The incredibly strong winds meant that aircraft have only recently been able to fly over the town and begin to reveal the devastation — the flames have destroyed most of the buildings in front of the port, including the old courthouse, the visual journalism team with the BBC writes. About 270 buildings have been destroyed in the historic town, which is home to about 12,000 people. Hawaii's Lt. Gov. Sylvia Luke has said it could take months to get a clear picture of the extent of the damage. Deadliest U.S. wildfire in 5 years Wildfire wreckage is shown in the historic town of Lahaina on Thursday. (Rick Bowmer/AP) With at least 36 lives already lost, the wildfires ravaging Hawaii's Big Island and Maui are the deadliest the United States has seen in five years. In 2018, the Camp Fire in California killed at least 85 people. Adam Weintraub, a spokesperson for Hawaii Emergency Management Agency, told the Associated Press: We are still in life preservation mode.\"}\n",
      "{'Fantasy Football Mock Draft: 12-team full-PPR': \"It's fantasy football mock draft season, and things are no different here at Yahoo Sports. Our team recently conducted a 12-team, full-point-per-reception fantasy football mock, and all the picks are in the cool graphic up top. Scroll to the right of the graphic above to see the complete results of the draft. Join or create a Yahoo Fantasy Football league for free today Team-by-team results are at the bottom of the article — but first, some interesting findings about the draft's results from our very own Dalton Del Don. Check out our 10-team half-PPR mock draft here. Injuries and holdouts made an impact • Jonathan Taylor’s ADP has been dropping given his uncertain situation, but he suffered no dip in this mock. Aside from his contract situation (and assuming his back is fine as he says), Taylor has questions regarding targets and raw rookie Anthony Richardson taking over at QB. But he’s also one season removed from totaling 2,200+ yards with 20 touchdowns and could be legitimately the best back in football. Richardson should also open the field for Taylor, so it’s hard to argue with the pick. That said, given that mobile quarterbacks typically don’t throw as much to their running backs, Taylor can be downgraded a bit in PPR formats. • Breece Hall fell nearly a full round past his Yahoo ADP, likely due to the Dalvin Cook-to-the-Jets rumors swirling during this draft (Hall’s fantasy value should be boosted in PPR). Cook left New York without a deal, and his eventual landing spot remains a mystery. Cook could be better this season after finally undergoing shoulder surgery, but he’d need to improve dramatically to keep a healthy Hall off the field. Hall’s fantasy managers may require a little patience either way, but he’s likely to be a top-five fantasy player over the second half and is my favorite to be the consensus No. 1 overall pick in 2024. • I rank Ja’Marr Chase and Justin Jefferson incredibly close but still went Chase despite Joe Burrow’s injury scare. Given how much time there is before the season, I’m treating Burrow’s calf injury as if he’ll be good to go Week 1 (as long as he doesn't listen to Chase's advice). I give Chase the ever so slight edge given his touchdown advantage — Chase has just three fewer TD catches in 21 fewer games than JJ and played injured last season — and being tied to Burrow, but most drafters disagree. WR is a huge priority in PPR • As expected in a PPR format, this draft resulted in more wide receivers (18 of the first 34 picks) being drafted early compared to our previous 0.5 PPR mock (14 of the first 35 picks were WRs). While the aggressive drafting left few sleeper receivers available later, Rashee Rice was an exception (says the person who drafted him). Quarterbacks, on the other hand, aren't • Quarterbacks dropped in this draft compared to the previous 10-teamer, which makes sense given the format differences. Wide receiver becomes a bigger priority in a 12-team PPR league. Jalen Hurts and Josh Allen were both steals in round three, while Lamar Jackson and Justin Fields were also strong picks in round four (the QB tier then suffers a big drop thanks to the rushing-upside discrepancy). That said, it’s also perfectly fine to wait until much later to address quarterback in leagues that start just one, highlighted in this draft by Tua Tagovailoa going at the end of round nine. Tagovailoa got 8.9 (!) YPA last season, when he threw as many touchdowns as Tom Brady in 333 fewer attempts. • I have Daniel Jones as a top-10 fantasy QB this year (with top-five potential), but he was an afterthought in this draft. Brock Purdy is in the world’s best system and led all QBs in fantasy points per dropback last season — and wasn’t even drafted here. There are multiple strategies to attack QB in 2023 (and they can vary greatly depending on format), so waiting on the position certainly remains viable. Some undervalued picks to highlight • Drake London has a top-36 ADP on other PPR sites, so he looks like a steal at pick No. 57 here. London had a historically good rookie season, will no longer have Marcus Mariota throwing to him and has the weakest WR2 competition in the league. London is the real deal, and Atlanta is likely to pass more in 2023. Questions remain regarding Desmond Ridder, but London gets to play indoors for a Falcons team that projects to have an incredibly favorable schedule. The Drake is good! • Courtland Sutton already looked like a good value in the 10th round of a PPR draft, but he looks like a great one now that Tim Patrick and KJ Hamler are out indefinitely (the Patrick injury news had just barely broken when we drafted). Sutton was a fantasy bust in 2022, but don’t forget he was being drafted ahead of Jerry Jeudy at this time last year, and Denver’s offense was a dysfunctional mess. With targets now opening (Jeudy has had trouble staying healthy as well), and Javonte Williams unlikely to be himself (he’ll be wearing a knee brace) right away, Sutton is suddenly looking at a real opportunity. He’s still just 27 and is another year removed from his knee surgery. The Sean Payton factor shouldn’t be underestimated, as the Broncos are about to undergo a dramatic upgrade in coaching not unlike what Jacksonville experienced last season. Russell Wilson has worked hard during the offseason after last year’s disastrous performance (and Jarrett Stidham is a more than capable alternative if Payton prefers him). Sutton was extremely undervalued being selected as the WR48 in this draft. Here are the team-by-team results of the mock draft in order of selection. Team 1: Scott Pianowski, Yahoo Fantasy Analyst Round Overall pick Player 1. (1) Christian McCaffrey (SF - RB) 2. (24) DK Metcalf (Sea - WR) 3. (25) Tee Higgins (Cin - WR) 4. (48) Kenneth Walker III (Sea - RB) 5. (49) Jerry Jeudy (Den - WR) 6. (72) Rachaad White (TB - RB) 7. (73) Diontae Johnson (Pit - WR) 8. (96) Dak Prescott (Dal - QB) 9. (97) David Njoku (Cle - TE) 10. (120) Samaje Perine (Den - RB) 11. (121) Allen Lazard (NYJ - WR) 12. (144) Aaron Rodgers (NYJ - QB) 13. (145) D'Onta Foreman (Chi - RB) 14. (168) Daniel Carlson (LV - K) 15. (169) New Orleans (NO - DEF) Team 2: Dalton Del Don, Yahoo Fantasy analyst Round Overall pick Player 1. (2) Ja'Marr Chase (Cin - WR) 2. (23) Jaylen Waddle (Mia - WR) 3. (26) DeVonta Smith (Phi - WR) 4. (47) Justin Fields (Chi - QB) 5. (50) J.K. Dobbins (Bal - RB) 6. (71) Kyle Pitts (Atl - TE) 7. (74) David Montgomery (Det - RB) 8. (95) Brian Robinson (Was - RB) 9.\"}\n",
      "{'NFL betting: Which rookie quarterback is worth backing this season?': 'The NFL is all about the quarterback. Selecting one early in the draft is one of the most significant moves a franchise can make. It marks a starting point of a new era, and puts a face to its vision of the future. The front office, coaching staff, players and fans are all ready to turn the page on the previous challenging season and embrace a new direction. In today’s NFL, they usually don’t have to wait very long to see their quarterback in action. There will always be exceptions like Patrick Mahomes, Aaron Rodgers or Jordan Love. But for the vast majority of these guys, the luxury of learning on the sidelines is not an option. That appears to be the case with this year’s class. Bryce Young, C.J. Stroud and Anthony Richardson each could realistically be under center when the season opens. Wagering on win totals isn’t always just about combing over the schedule, grading offseason moves and applying your projections. It can be beneficial to target situations that surface year after year, and see if the historical data can provide a small edge. That can be new head coaches, quarterbacks with new playcallers or rookies playing against NFL defenses for the first time. Join or create a Yahoo Fantasy Football league for free today Clevanalytics had some interesting data on the success of teams that relied on first-round quarterbacks (for at least nine starts) in their rookie season. Since 2014, only 36% of teams went over their preseason win total. Going back to 2002, only 26.8% have won more than 50% of the games they started in Year 1. These are both based on small sample sizes, and the results are a combination of the massive jump from college and the lofty expectations from bettors for these players. How will this season’s rookie quarterbacks fare?'}\n",
      "{'2023 Fantasy Football Draft Day Blueprint: The guide you need to succeed': \"Last season on Yahoo, 87.1% of teams that started 5-0 made their fantasy playoffs. Among 4-1 starters, 71.8% of teams made the dance. Once you got to 3-2, it could go either way; 50% of teams made the playoffs. Anything below .500 and the odds were stacked against you. Fantasy football season is nearly upon us. In a matter of weeks, millions of people will draft their teams and begin the pursuit of fantasy glory. But if we’re being real, millions of folks have already done just that. For me, football is my year-round obsession. Not a day goes by that I don’t consider the sport and the potential range of outcomes for the upcoming season. I think about this 365 days so you don’t have to. I’m obsessed, so you get to enjoy your normal life. And I’m far from cursed in mine, to be fair. Here I’ll lay out my blueprint for 2023 fantasy football drafts: the compilation of my thoughts about the game after charting hundreds of wide receiver routes, watching endless film and running through my projections for all 32 teams. I’ll get some major assists along the way from the gentlemen I’m lucky to consider colleagues here at Yahoo. I’ll point you to their great work to read or listen to later and hopefully, challenge the way you think. If you’re just now jumping back into football, welcome. If you’ve been keeping up with content all year long, thank you for your support and for keeping the lights on. But the journey is just beginning for all of us. So let’s delay no further, it's time to unveil the blueprint to build your most successful season yet. Good luck! Join or create a Yahoo Fantasy Football league for free today Big picture thoughts for the 2023 season The more I have thought about fantasy football this year, the more I’m convinced it all starts at quarterback. How you approach the quarterback decides the rest of your team. No pressure. I was all-in on going early quarterback this year. I’ve said it many times on the Yahoo Fantasy Football Show: all my good teams last season featured either Jalen Hurts or Josh Allen. I am a full believer that elite QBs are back in the mix for early draft consideration because players like that are both incredibly efficient passers and offer rushing upside to break that game. The ceiling and floor combination is tough to beat. But pieces like Andy Behrens’ Is waiting at QB still a winning strategy?” and conversations like the one I had on the podcast recently with Dalton Del Don have me wavering. There are some very appealing quarterbacks who go late in drafts. And same as it ever was, the opportunity cost of taking an early quarterback remains. I want to make sure I have at least one anchor running back who comes from the first two rounds of drafts. I want a strong three-wide receiver corps that is filled with alpha target hogs or clear 1B receivers on a great offense. I loved the way Scott Pianowski said it on a recent podcast: Get three receivers who start themselves.” All of that is hard to pull off if you also want to lock in someone from the first tier of quarterbacks. Do I pass on that elite tier and try to hunt for rushing-based breakout candidates like Anthony Richardson or Daniel Jones? When you hit on one of those guys and they actually emerge as a fringe top-five scorer and your early running back and receiver picks work out, you build an unfair roster. And yet, Andy’s words from his quarterback piece stick with me: In recent years, however, we've witnessed a string of the most remarkable individual quarterback campaigns in league history; golden-ticket seasons for fantasy purposes. Patrick Mahomes set the all-time QB fantasy scoring record in 2018. Lamar Jackson set the per-game scoring record the following year. Mahomes, Jalen Hurts and Josh Allen each produced seasons in 2022 that rank among the top-12 historically on a per-game basis. Mahomes now has the No. 1 and No. 2 QB scoring campaigns on his resume. Twelve of the top 18 all-time fantasy seasons at this position were delivered over the past five years.” Those seasons were legendary and that’s why all of those players — yes, including Jackson — make up my first tier. I am fully convinced all of those players can have seasons like that again in 2023. And I don’t mind paying for the certainty. I haven’t fully decided just which side of this internal debate I’ll land on being best for the season. Frankly, since I believe both are viable, it gives me the flexibility to live in the moment and let each individual draft come to me. I’d advise you to do the same. Best fantasy ecosystems (drink) If you know me, I am all about ecosystems. Fantasy football can be all about hammering players from the best ecosystems in the NFL. I always think back to the Peyton Manning Broncos teams circa 2013. Sometimes winning your fantasy league is as simple as hoarding as many players from those kinds of special offenses. It’s obvious that great ecosystems equate to some of the most potent and efficient offenses in the NFL. They’re surrounded by a quality line, loaded with good skill position talent and stewarded by a high-end play-caller. But there’s more to it than that. In fantasy, it’s important we look at these highly concentrated offenses around the league. The 2022 Eagles were the best example of this. They had three star-caliber skill-position players and that’s where they threw the ball. If they were dropping back to pass, the ball was going to A.J. Brown, DeVonta Smith or Dallas Goedert. Those guys combined for over 80% of the team targets. They didn’t mess around with a pass-catching back, a third receiver or a red-zone menace tight end. If they kept it on the ground, they were breaking the math and hammering people in the run game with Miles Sanders or Jalen Hurts. It made them painfully hard to defend but quite easy to predict in fantasy. The Jacksonville Jaguars could be this year’s Eagles; an efficient offense with a concentrated target tree. You can confidently draft Calvin Ridley, Christian Kirk and Evan Engram because they’ll be drawing the vast majority of looks. The 49ers have a setup like that with their top four guys and the Seahawks' receiver set should handle the bulk of the targets. You can be in on all three of DK Metcalf, Tyler Lockett and Jaxson Smith-Njigba in fantasy this season. I am, because Geno Smith’s performance was legitimate in every sense of the word. Those are my four favorite ecosystems to target in 2023. Every year, I write about the teams we need to get right in fantasy football. The 2023 edition included the Browns, Chargers and Colts. With a few breaks, any or all of those three teams could jump into the elite ecosystem tier. You can call them the cautiously optimistic honorable mentions. Fast Start vs. Hot Finish Whether analysts know it or want to admit it, best-ball brain has seeped into all of our content. The popularity and fun of Best Ball (available on Yahoo) have made it hard to transition the way we talk about that game into traditional redraft leagues. There is a difference, though. With many looking to take down massive best-ball contests, we’ve gotten overly obsessed with the end of the season. You’ll hear folks say Weeks 15, 16, 17 … the ones that matter most for fantasy football,” when analyzing individual player or team outlooks. That’s true in a sense, even for redraft-managed teams. Those are the fantasy playoffs and we all want to win those weeks to take the league championship. We know why they’re a focus but, you have to get there in the first place for them to matter at all. And that’s where I’m changing my tune a bit. I have always been fine with drafting my teams with a flippant attitude to the start of the season to leave myself open to late-season upside. I’m usually all about the hot finish. No one has caused me to reevaluate that stance more than Scott Pianowski. He's banged the drum about the benefits of starting fast for years and has pushed fantasy managers to draft to win September.” The numbers are on his side. Life is just a lot easier if you’re riding hot coming into mid-October. You can start filling your bench with late-season upside stashes like your favorite rookie receiver or a high-end backup running back when you don’t have to worry about chasing needs on waivers. You can get the best of both worlds with that hot start.\"}\n",
      "{'Trio scammed Target stores using ‘sleight of hand’ trick to buy gift cards, feds say': 'Coast Guard reports rescuing more than 50 people who jumped into water to escape deadly Hawaii wildfire Three Romanian citizens accused of defrauding Target stores across the U.S. have been sentenced to prison, authorities said. The trio used a sleight of hand” trick to buy Visa gift cards without paying full price, according to an Aug. 7 news release from the U.S. Attorney’s Office for the Eastern District of Missouri. Sleight of hand is a cleverly executed trick or deception” that requires skill and dexterity. When purchasing the cards, they would display the full purchase price in cash, then fold over a portion and keep it while handing the rest of the money to store employees,” officials said. As part of the yearslong short-change” scheme, authorities said the three people would target younger or less experienced” store workers. They then wired profits of the scheme to family in Romania, according to the release.'}\n",
      "{\"Karlie Kloss spotted at Taylor Swift's final L.A. concert after rumored friendship drama\": \"Karlie Kloss remains a Swiftie. While the 31-year-old model's friend status with the Fearless singer remains murky, Kloss did attend Swift's Eras Tour show on Wednesday. Fans and photogs captured her at the final show in Swift's six-night stint at SoFi Stadium, which also marked the end of the first leg of Swift's North American tour. One video was shared with emojis that perfectly sum up the development, including a siren, eyes and exploding head. Though it seems Kloss did not attend as a FOS (Friend of Swift). According to Us Weekly, Kloss didn't join fellow celebs — like Swift pal Emma Stone — in the VIP area. Instead, Kloss, who attended with friends Marianne Fonseca and Misha Nonoo and sat in the bleachers. View this post on Instagram       A post shared by UpDaisys Community (@communitydaisys) Entertainment Tonight reports that security brought Kloss the to VIP section at one point in the night. However, fan footage showed that when Swift performed Bad Blood — toward the end of her show — Kloss was still in the same, non-VIP seat.\"}\n",
      "{'How to help Hawaii’s wildfire victims: Food banks, shelters, and cash donations': 'Donations can be made here. Coast Guard reports rescuing more than 50 people who jumped into water to escape deadly Hawaii wildfire Thousands have been displaced by devastating wildfires on Hawaii’s Big Island and Maui. Thousands of Hawaiians were forced to flee their homes and abandon their businesses this week, as raging wildfires engulfed large swaths of land on Maui and the Big Island. Officials confirmed that the fires have caused 36 deaths so far, with Maui Mayor Richard Bissen issuing a somber warning on Wednesday that numbers could rise. Hospitals on Maui have been overwhelmed with burn victims and patients with smoke-related illnesses. The historic town of Lahaina, home to about 9,000 residents, was almost totally burnt to the ground,” Sen. Brian Schatz said on Wednesday. In Maui alone, more than 270 structures have been damaged so far. These were small businesses that invested in Maui,” Lt. Gov.'}\n",
      "{'July inflation report: New and used car prices keep falling': 'Both of those figures for the used car market fell again for a 2nd month in a row. But while car prices drop, insurance rates are rising for weary consumers New and used car prices are continuing to drop, according to the latest government inflation data released Wednesday morning. The bottom line? Consumers may be buying more cars. For the month of July, consumer prices for new autos were down 0.1% compared to June and up 3.5% year over year, with the yearly figure coming down considerably compared to the prior month’s 4.1%. The used car market saw even more moderation, with prices down 1.3% for the month of July alone, and dropping 5.6% year over year. Car prices, in particular for used vehicles, seem to be coming down faster compared to inflation in the broader economy, which saw overall CPI rise 3.2% in July year over year. That was below analyst expectations of 3.3%, but more than the June’s 3%. Used vehicle trends are also coming down at the wholesale auction market, which tracks overall trends that are a precursor to what will be seen at the retail level.'}\n",
      "{'Inflation: Grocery prices are back up (slightly), beef prices jump': \"The cooling inflation trend for groceries reversed somewhat in July. Here's what to know about prices for beef, chicken, eggs, fruit, and sweets. Grocery prices had been cooling, then came July. The cost of food at home — what consumers see at their local supermarkets such as Kroger (KR), Albertsons (ACI), and others — increased slightly in July after remaining mostly flat in recent months. Grocery prices increased by 0.3% on a monthly basis, according to the Bureau of Labor Statistics' (BLS) Consumer Price Index (CPI) released Thursday. On a year-over-year basis, food-at-home inflation rose 3.6%, a slower rate than the month prior. Overall, consumer prices were up by 3.2% in July over the prior year and 0.2% month over month. The beef and veal category, which rose 2.4%, was one of the biggest drivers of the month-over-month increase. The category saw the largest jump since September 2021, BLS economist Steve Reed told Yahoo Finance. Uncooked beef roasts led that monthly jump with a 6.5% increase from June to July. Beef steaks were up 2.3%, while other cuts of beef and veal were up 3.6%. What's behind the jump? According to Wells Fargo agricultural economist Michael Swanson, higher beef prices stem from the aftermath of one of the worst droughts we've had in the Southwest last year and a sell-off of all the cattle. Essentially when a drought happens, producers sell off cows at once, which makes beef cheap. Now, as ranchers rebuild their herds, higher feed prices are costing them more and driving up prices overall.\"}\n",
      "{'The best hair growth products of 2023': \"Hair loss impacts millions of people in the U.S., and not just aesthetically; it's linked to a greater risk of developing stress and depression. To add insult to injury, hair loss is complicated, and the right solution requires understanding the underlying cause of the thinning and loss. The most common cause of hair loss is androgenetic alopecia, aka male pattern hair loss or female pattern hair loss, explains Dr. Amy Forman Taub, a board-certified dermatologist and assistant professor at Northwestern University Medical School. The second most common is called telogen effluvium and can be caused by many things, including severe stress, childbirth, certain drugs and thyroid abnormalities, Taub says. Thankfully, in most cases, hair thinning and loss can be treated and reversed with great success. Given that millions suffer from hair thinning and hair loss, the market is beyond saturated with lotions and potions promising miracles. Choosing the wrong product means wasting money, as well as time that could be spent on the right solution for you. To help you better understand what's going on with your distressed tresses, we consulted with multiple dermatologists and hair loss specialists for their input on what works and what doesn't, and what to specifically look for in hair growth products to give you the best chance of success. We also made sure to include a range of products at various price points to help meet you where you're at, so you can get started on the road to recovery as soon as possible. Before we dive into the best hair regrowth treatments, there are a few factors to consider before shopping for the best hair growth product for you. Key considerations The best hair growth product for you ultimately depends on what's causing your hair loss, Dr. Michelle Henry, a board-certified dermatologist and Harvard-trained Mohs surgeon who specializes in hair loss, tells Yahoo Life. For cases related to genetic hair loss, two commonly prescribed and FDA-approved treatments are minoxidil and finasteride, she says. These treatments have demonstrated positive results in stimulating hair regrowth, although individual responses may vary. If your hair loss is extreme or you're concerned about the cause, consulting a board-certified dermatologist is recommended. One common cause of temporary hair loss and thinning is illness, including COVID-19, according to the American Academy of Dermatology (AAD). While there isn't a specific immediate cure for COVID-induced hair loss, there are several steps you can take to promote regrowth and improve the overall health of your hair post-illness, Dr. Jake Woods, a board-certified dermatologist at Gya Labs, tells Yahoo Life. If you notice hair loss three to four months after a mild to severe bout of Covid or the flu, you can almost bet that is the cause. People can also develop hair loss from underlying medical conditions like alopecia areata, Taub says. And, of course, there's the genetic role our DNA plays in hair loss. The good news is that regardless of the source of your thinning and balding, there is a treatment to help reverse or reduce the shedding. There are a range of products on the market that can help with hair loss and thinning. These include: Serums Shampoos Oils Foams Prescription medications Vitamins and supplements Hair growth products can be costly, so it's important to figure out in advance how much you can comfortably spend. Keep in mind that spending more won't necessarily get you better results. Instead, focus on finding the right treatment plan for your particular type of hair loss, as well as your individual needs. Type: Topical solution Key ingredient: 5% minoxidil Best for: Pattern baldness, all-over regrowth It's been a leader in hair growth products for over 30 years, so it's no surprise that Rogaine tops our list. Its extra-strength 5% minoxidil topical solution is FDA-approved to treat pattern hair loss and has been clinically proven to show results for most people within 12 weeks of regular use. It's also easy to apply and can be used in the shower. As with many hair growth products, the best results with Rogaine come the earlier you address hair shedding. While this particular 5% solution treatment is recommended for men, there is also Rogaine for women with a specially formulated 2% solution. On month two, I could already see results, and month three I am clear that this product works for me, says a happy customer. Type: Spray Key ingredient: 5% minoxidil Best for: Thinning hair Tomum's 5% minoxidil hair growth treatment features the same key ingredient as many popular hair regrowth products at a fraction of the cost. This treatment comes in the form of a spray, so you can target the areas where you need it most. The company says you'll see results in four to eight weeks, but some happy customers say they've seen improvements even sooner.\"}\n",
      "{'2023 NFL preseason: How to watch the Bengals vs. Packers game': \"At $75 per month, the live TV streaming service is definitely the priciest option on this list but offers nearly every channel you'll need to watch the NFL preseason and regular season, but still leaves you with major savings compared to a traditional cable package. Fubo subscribers also get 1000 hours of cloud DVR storage. The platform offers a 7-day free trial period. Football is (un)officially back! The 2023 NFL preseason opened with the Hall of Fame Game between the Cleveland Browns and the New York Jets last Thursday, kicking off three full, football-centric weeks. This week, the Cincinnati Bengals take on the Green Bay Packers. The game will likely see Jordan Love step into the role of starting quarterback, so it's one you probably won't want to miss. Ready to watch some football? Here’s everything you need to know about how to watch the Bengals vs. Packers game, plus the rest of the 2023 NFL preseason, including the full preseason schedule, where to stream NFL games this year and more. Date: Friday, August 11 Time: 7 p.m. ET Game: Cincinnati Bengals at Green Bay Packers TV channel: NFL Network Streaming: Fubo How to watch the Bengals vs. Packers game: Fubo TV gives you access to NFL network, ESPN, Fox, ABC, CBS and 100+ more live channels. 2023 NFL preseason full schedule: All times Eastern Week 1 Thursday, August 10 Houston Texans at New England Patriots, 7 p.m. Minnesota Vikings at Seattle Seahawks, 10 p.m. Friday, August 11 Green Bay Packers at Cincinnati Bengals, 7 p.m. Pittsburgh Steelers at Tampa Bay Buccaneers, 7 p.m. New York Giants at Detroit Lions, 7 p.m. Atlanta Falcons at Miami Dolphins, 7 p.m. Washington Commanders at Cleveland Browns, 7:30 p.m. Denver Broncos at Arizona Cardinals, 10 p.m. Saturday, August 12 Tennessee Titans at Chicago Bears, 1 p.m. Indianapolis Colts at Buffalo Bills, 1 p.m. New York Jets at Carolina Panthers, 4 p.m. Jacksonville Jaguars at Dallas Cowboys, 5 p.m. Philadelphia Eagles at Baltimore Ravens, 7 p.m. Los Angeles Chargers at Los Angeles Rams, 9 p.m. Sunday, August 13 Kansas City Chiefs at New Orleans Saints, 1 p.m. San Francisco 49ers at Las Vegas Raiders, 4 p.m. Week 2 Thursday, August 17 Cleveland Browns at Philadelphia Eagles, 7:30 p.m. Friday, August 18 Carolina Panthers at New York Giants, 7 p.m. Cincinnati Bengals at Atlanta Falcons, 7:30 p.m. Saturday, August 19 Jacksonville Jaguars at Detroit Lions, 1 p.m. Miami Dolphins at Houston Texans, 4 p.m. Buffalo Bills at Pittsburgh Steelers, 6:30 p.m. Chicago Bears at Indianapolis Colts, 7 p.m. Tampa Bay Buccaneers at New York Jets, 7:30 p.m. Tennessee Titans at Minnesota Vikings, 8 p.m. Kansas City Chiefs at Arizona Cardinals, 8 p.m. New England Patriots at Green Bay Packers, 8 p.m. Denver Broncos at San Francisco 49ers, 8:30 p.m. Las Vegas Raiders at Los Angeles Rams, 9 p.m. Dallas Cowboys at Seattle Seahawks, 10 p.m. Sunday, August 20 New Orleans Saints at Los Angeles Chargers, 7:05 p.m. Monday, August 21 Baltimore Ravens at Washington Commanders, 8 p.m. (ESPN) Week 3 Thursday, August 24 Pittsburgh Steelers at Atlanta Falcons, 7:30 p.m. Indianapolis Colts at Philadelphia Eagles, 8 p.m. (Prime Video) Friday, August 25 Detroit Lions at Carolina Panthers, 8 p.m. (CBS) New England Patriots at Tennessee Titans, 8:15 p.m. Los Angeles Chargers at San Francisco 49ers, 10 p.m. Saturday, August 26 Seattle Seahawks at Green Bay Packers, 1 p.m. Cleveland Browns at Kansas City Chiefs, 1 p.m. Arizona Cardinals at Minnesota Vikings, 1 p.m. Buffalo Bills at Chicago Bears, 1 p.m. New York Jets at New York Giants, 6 p.m. Cincinnati Bengals at Washington Commanders, 6:05 p.m. Baltimore Ravens at Tampa Bay Buccaneers, 7 p.m. Miami Dolphins at Jacksonville Jaguars, 7 p.m. Los Angeles Raiders at Dallas Cowboys, 8 p.m. Los Angeles Rams at Denver Broncos, 9 p.m. Sunday, August 27 Houston Texans at New Orleans Saints, 8 p.m (Fox) How to watch all the NFL preseason games: Many NFL preseason games are broadcast on local channels, so if you're looking to catch an in-market game, it may be as simple as turning on your TV (or setting up a digital TV antenna).\"}\n",
      "{\"Women's World Cup 2023: How to watch tonight's Spain vs. Netherlands game\": \"The USWNT may be out of the running in the 2023 Women’s World Cup, but that doesn’t mean there isn’t still plenty of action to follow on the tournament field. Thursday, the 2023 World Cup moves into the quarterfinals, starting with a showdown between Spain and the Netherlands. While this year's World Cup has unfortunately been beset with awkward time differences, Tonight’s game kicks off at the easy hour of 9 p.m. ET, so no need to have that extra cup of coffee this afternoon! Here’s everything you need to know about where to watch the Spain vs. Netherlands game, plus the full Women’s World Cup Quarterfinals schedule, where to stream World Cup games and more. How to watch the Women's World Cup: Spain vs. Netherlands: Date: Thursday, August 10 Time: 9 p.m. ET TV Channel: Fox Streaming: Sling, Fubo Livestream: VPN When is the Spain vs. Netherlands World Cup game? Spain plays the Netherlands this Thursday, at 9 p.m ET. What channel is the Spain vs. Netherlands World Cup game on? Since 2015, Fox has the English-language broadcast rights to the Women’s World Cup in the United States. Telemundo will broadcast the Spanish-language coverage, and Peacock will stream Spanish coverage.\"}\n",
      "{\"July inflation data shows 'convincing' signs price pressures easing, taking heat off Fed\": \"Inflation reaccelerated in July for the first time in 13 months. But beneath the surface of the 3.2% headline number revealed in Thursday's Consumer Price Index (CPI) report are several signs the Federal Reserve's fight against inflation is headed in the right direction. The July CPI report offered more convincing evidence that inflation pressures are abating, EY-Parthenon senior economist Lydia Boussour said on Thursday. Fuel price increases helped force headline inflation back up in July. When looking at core inflation, the Fed's preferred inflation gauge that strips out the volatile food and energy categories, prices rose at their slowest pace since October 2021. Core prices increased 4.7% year-over-year in July, down from 4.8% in June and 5.9% in July 2022. On a monthly basis, core CPI increased 0.2% for the second-straight month, marking the first time since February 2021 that core CPI rose just 0.2% in consecutive months.\"}\n",
      "{\"Lil Tay not actually dead: Child rapper and her brother are 'safe and alive' after apparent death hoax\": \"It turns out that Lil Tay, the Canadian internet child rapper, is not actually dead. One day after it was announced on her official Instagram account that she and her brother, 21-year-old Jason Tian, had both died, the provocative performer and social media influencer who found internet fame at age 9 with her foul-mouthed antics and cash flashing before abruptly dropping off social media in 2018, has surfaced to say it was a hoax and that her account was hacked. I want to make it clear that my brother and I are safe and alive, but I’m completely heartbroken and struggling to even find the right words to say, Tay told TMZ on Thursday. It’s been a very traumatizing 24 hours. All day yesterday, I was bombarded with endless heartbreaking and tearful phone calls from loved ones all while trying to sort out this mess. She said her Instagram account was compromised by a 3rd party and it was used to spread jarring misinformation and rumors regarding me, to the point that even my name was wrong. My legal name is Tay Tian, not 'Claire Hope.' She thanked Meta, owner of Instagram, for helping her get back into her account. What happened? The good news comes amid a very strange 24 hours. On Wednesday, the announcement that Tay and her brother, an aspiring rapper, had died appeared on her account, which has 3.3 million followers.\"}\n",
      "{\"Social Security's cost-of-living increase could be only 3%: Will that be enough?\": \"Fed's Daly tells Yahoo Finance there's 'still more work to do' on inflation Seniors brace yourselves. You will likely be getting a 3% Social Security cost-of-living adjustment, or COLA, next year, well below the 8.7% increase in benefits received this year. That's the new 2024 estimate from The Senior Citizens League (SCL), which translates to an average monthly benefit check hike of less than $54. You can thank cooling inflation for the potentially paltry COLA. This year’s leap, the biggest increase in four decades, raised the average retiree benefit by more than $140 per month. The smaller COLA would sting the more than 70 million retired senior citizens and disabled workers who are still grappling with the lingering squeeze from high prices, such as those seen in housing and health care, according to the nonpartisan group. Older consumers, especially those with lower retirement incomes remain vulnerable to some of the higher prices that haven’t gone down, Mary Johnson, Social Security and Medicare policy analyst at The Senior Citizens League, told Yahoo Finance. The crystal ball COLA estimate is based on inflation data from the Bureau of Labor Statistics released Thursday morning that showed consumer prices in July rose 3.2% over the prior year, a slight bump from June's 3% annual increase but far below last year’s soaring inflation. The actual COLA, which the Social Security Administration is expected to announce in mid-October, is calculated by averaging together the Consumer Price Index for Urban Wage Earners and Clerical Workers (CPI-W) for the third quarter of the year — July, August, and September of 2023 — and then comparing that figure with the same data from last year.\"}\n",
      "{\"San Francisco Fed’s Daly: 'There’s still more work to do' on inflation\": \"San Francisco Federal Reserve Bank President Mary Daly said a new report out Thursday showed inflation is coming down but is still too high, leaving the central bank with more work to do. The CPI data came in largely as expected and that is good news, Daly told Yahoo Finance in an exclusive interview, referring to a 3.2% rise in the Consumer Price Index in July over the prior year, a slight acceleration from June's 3% annual increase but in line with forecasts. It's also consistent with what we believe will be happening, which is that inflation will gradually make its way down, she added. But it is not a data point that says victory is ours. There's still more work to do.” When looking at core inflation, the Fed's preferred inflation gauge that strips out the volatile food and energy categories, prices rose at their slowest pace since October 2021. Core prices increased 4.7% year over year in July, down from 4.8% in June and 5.9% in July 2022. While trending in the right direction, inflation remains well above the Fed’s 2% target. Daly said she is highly data dependent and is reserving her judgment for how much work is needed to bring down inflation until the Fed’s September policy meeting, when she will pencil in her projections for interest rates.\"}\n",
      "{'Dow inches up as inflation trends stay positive: Stock market news today': \"Fed's Daly tells Yahoo Finance there's 'still more work to do' on inflation Stocks inched higher Thursday as newly released data showed inflation ticked up on an annual basis for the first time in over a year but disinflationary trends remained positive. In midday trading, the Dow Jones Industrial Average (^DJI) gained about 0.2%. The S&P 500 (^GSPC) was roughly flat, while the tech-heavy Nasdaq Composite (^IXIC) was up 0.1%.\"}\n"
     ]
    }
   ],
   "source": [
    "with open('summariesconfirm.json') as f:\n",
    "    summary_file = json.load(f)\n",
    "\n",
    "\n",
    "for i in summary:\n",
    "    if i not in summary_file :\n",
    "        print(i)\n",
    "        summary_file.append(i)\n",
    "           \n",
    "with open('summariesconfirm.json','w') as f:\n",
    "    json.dump(summary_file,f)\n"
   ]
  },
  {
   "cell_type": "code",
   "execution_count": null,
   "id": "83c0bc5e",
   "metadata": {},
   "outputs": [],
   "source": []
  },
  {
   "cell_type": "code",
   "execution_count": 2,
   "id": "6e8514d0",
   "metadata": {},
   "outputs": [],
   "source": [
    "import os"
   ]
  },
  {
   "cell_type": "code",
   "execution_count": 26,
   "id": "7923e337",
   "metadata": {},
   "outputs": [
    {
     "data": {
      "text/plain": [
       "environ{'__CFBundleIdentifier': 'com.apple.Terminal',\n",
       "        'TMPDIR': '/var/folders/nq/qb822jkx38j2c_4_zwzhvxf80000gn/T/',\n",
       "        'XPC_FLAGS': '0x0',\n",
       "        'LaunchInstanceID': 'E64CFA70-CA1D-45BE-9A2F-52A48B2F2074',\n",
       "        'TERM': 'xterm-color',\n",
       "        'SSH_AUTH_SOCK': '/private/tmp/com.apple.launchd.W4P8RLZe6Z/Listeners',\n",
       "        'SECURITYSESSIONID': '18c8d',\n",
       "        'XPC_SERVICE_NAME': '0',\n",
       "        'TERM_PROGRAM': 'Apple_Terminal',\n",
       "        'TERM_PROGRAM_VERSION': '447',\n",
       "        'TERM_SESSION_ID': '052C202F-7E58-4106-B580-8DB7A2DD6855',\n",
       "        'SHELL': '/bin/zsh',\n",
       "        'HOME': '/Users/adeoyedipo',\n",
       "        'LOGNAME': 'adeoyedipo',\n",
       "        'USER': 'adeoyedipo',\n",
       "        'PATH': '/Users/adeoyedipo/opt/anaconda3/bin:/Users/adeoyedipo/opt/anaconda3/condabin:/Library/Frameworks/Python.framework/Versions/3.6/bin:/Library/Frameworks/Python.framework/Versions/3.9/bin:/Library/Frameworks/Python.framework/Versions/3.8/bin:/usr/local/bin:/System/Cryptexes/App/usr/bin:/usr/bin:/bin:/usr/sbin:/sbin:/var/run/com.apple.security.cryptexd/codex.system/bootstrap/usr/local/bin:/var/run/com.apple.security.cryptexd/codex.system/bootstrap/usr/bin:/var/run/com.apple.security.cryptexd/codex.system/bootstrap/usr/appleinternal/bin',\n",
       "        'SHLVL': '1',\n",
       "        'PWD': '/Users/adeoyedipo',\n",
       "        'OLDPWD': '/Users/adeoyedipo',\n",
       "        'CONDA_EXE': '/Users/adeoyedipo/opt/anaconda3/bin/conda',\n",
       "        '_CE_M': '',\n",
       "        '_CE_CONDA': '',\n",
       "        'CONDA_PYTHON_EXE': '/Users/adeoyedipo/opt/anaconda3/bin/python',\n",
       "        'CONDA_SHLVL': '1',\n",
       "        'CONDA_PREFIX': '/Users/adeoyedipo/opt/anaconda3',\n",
       "        'CONDA_DEFAULT_ENV': 'base',\n",
       "        'CONDA_PROMPT_MODIFIER': '(base) ',\n",
       "        'LANG': 'en_CA.UTF-8',\n",
       "        '_': '/Users/adeoyedipo/opt/anaconda3/bin/jupyter',\n",
       "        'JPY_PARENT_PID': '52634',\n",
       "        'CLICOLOR': '1',\n",
       "        'PAGER': 'cat',\n",
       "        'GIT_PAGER': 'cat',\n",
       "        'MPLBACKEND': 'module://ipykernel.pylab.backend_inline'}"
      ]
     },
     "execution_count": 26,
     "metadata": {},
     "output_type": "execute_result"
    }
   ],
   "source": [
    "os.environ"
   ]
  },
  {
   "cell_type": "code",
   "execution_count": null,
   "id": "906b5966",
   "metadata": {},
   "outputs": [],
   "source": [
    "# CLIENT_ID=8879a6eab24f4834bc2b132380e37127\n",
    "# CLIENT_SECRET=46e697503e984208be7141da13b67b11"
   ]
  }
 ],
 "metadata": {
  "kernelspec": {
   "display_name": "Python 3",
   "language": "python",
   "name": "python3"
  },
  "language_info": {
   "codemirror_mode": {
    "name": "ipython",
    "version": 3
   },
   "file_extension": ".py",
   "mimetype": "text/x-python",
   "name": "python",
   "nbconvert_exporter": "python",
   "pygments_lexer": "ipython3",
   "version": "3.8.8"
  }
 },
 "nbformat": 4,
 "nbformat_minor": 5
}
